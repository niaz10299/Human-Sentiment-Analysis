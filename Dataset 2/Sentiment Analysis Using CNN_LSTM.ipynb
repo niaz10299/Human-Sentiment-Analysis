{
 "cells": [
  {
   "cell_type": "markdown",
   "id": "5b51a5eb",
   "metadata": {},
   "source": [
    "# Import Libraries"
   ]
  },
  {
   "cell_type": "code",
   "execution_count": 2,
   "id": "acd0899a",
   "metadata": {},
   "outputs": [],
   "source": [
    "import numpy as np \n",
    "import pandas as pd \n",
    "import pandas as pd"
   ]
  },
  {
   "cell_type": "code",
   "execution_count": 3,
   "id": "f29814d7",
   "metadata": {},
   "outputs": [],
   "source": [
    "import tensorflow as tf\n",
    "from tensorflow.keras.preprocessing.text import Tokenizer\n",
    "from tensorflow.keras.preprocessing.sequence import pad_sequences\n",
    "from tensorflow.keras.preprocessing.text import one_hot\n",
    "import matplotlib.pyplot as plt"
   ]
  },
  {
   "cell_type": "code",
   "execution_count": 4,
   "id": "e1524adf",
   "metadata": {},
   "outputs": [],
   "source": [
    "from tensorflow.keras import Sequential\n",
    "from tensorflow.keras.layers import Embedding, Dense, Dropout, BatchNormalization, Flatten, LSTM,Conv1D,MaxPooling1D\n",
    "from tensorflow.keras.callbacks import Callback, ReduceLROnPlateau\n",
    "from tensorflow.keras.optimizers import Adam\n",
    "from tensorflow.keras.layers import Dense, LSTM, Embedding, Dropout, Activation, Flatten, Input, concatenate, Conv1D, GlobalMaxPooling1D"
   ]
  },
  {
   "cell_type": "markdown",
   "id": "da2a0258",
   "metadata": {},
   "source": [
    "# Dataset"
   ]
  },
  {
   "cell_type": "code",
   "execution_count": 6,
   "id": "4f035b4d",
   "metadata": {},
   "outputs": [
    {
     "data": {
      "text/html": [
       "<div>\n",
       "<style scoped>\n",
       "    .dataframe tbody tr th:only-of-type {\n",
       "        vertical-align: middle;\n",
       "    }\n",
       "\n",
       "    .dataframe tbody tr th {\n",
       "        vertical-align: top;\n",
       "    }\n",
       "\n",
       "    .dataframe thead th {\n",
       "        text-align: right;\n",
       "    }\n",
       "</style>\n",
       "<table border=\"1\" class=\"dataframe\">\n",
       "  <thead>\n",
       "    <tr style=\"text-align: right;\">\n",
       "      <th></th>\n",
       "      <th>Text</th>\n",
       "      <th>Emotion</th>\n",
       "    </tr>\n",
       "  </thead>\n",
       "  <tbody>\n",
       "    <tr>\n",
       "      <th>0</th>\n",
       "      <td>i didnt feel humiliated</td>\n",
       "      <td>sadness</td>\n",
       "    </tr>\n",
       "    <tr>\n",
       "      <th>1</th>\n",
       "      <td>i can go from feeling so hopeless to so damned...</td>\n",
       "      <td>sadness</td>\n",
       "    </tr>\n",
       "    <tr>\n",
       "      <th>2</th>\n",
       "      <td>im grabbing a minute to post i feel greedy wrong</td>\n",
       "      <td>anger</td>\n",
       "    </tr>\n",
       "    <tr>\n",
       "      <th>3</th>\n",
       "      <td>i am ever feeling nostalgic about the fireplac...</td>\n",
       "      <td>love</td>\n",
       "    </tr>\n",
       "    <tr>\n",
       "      <th>4</th>\n",
       "      <td>i am feeling grouchy</td>\n",
       "      <td>anger</td>\n",
       "    </tr>\n",
       "  </tbody>\n",
       "</table>\n",
       "</div>"
      ],
      "text/plain": [
       "                                                Text  Emotion\n",
       "0                            i didnt feel humiliated  sadness\n",
       "1  i can go from feeling so hopeless to so damned...  sadness\n",
       "2   im grabbing a minute to post i feel greedy wrong    anger\n",
       "3  i am ever feeling nostalgic about the fireplac...     love\n",
       "4                               i am feeling grouchy    anger"
      ]
     },
     "execution_count": 6,
     "metadata": {},
     "output_type": "execute_result"
    }
   ],
   "source": [
    "filePath = 'D:\\\\New folder (2)\\\\Emotion_final.csv'\n",
    "df = pd.read_csv(filePath)\n",
    "df.head()"
   ]
  },
  {
   "cell_type": "code",
   "execution_count": 7,
   "id": "8a12d52d",
   "metadata": {},
   "outputs": [
    {
     "data": {
      "text/plain": [
       "happy       7029\n",
       "sadness     6265\n",
       "anger       2993\n",
       "fear        2652\n",
       "love        1641\n",
       "surprise     879\n",
       "Name: Emotion, dtype: int64"
      ]
     },
     "execution_count": 7,
     "metadata": {},
     "output_type": "execute_result"
    }
   ],
   "source": [
    "df['Emotion'].value_counts()"
   ]
  },
  {
   "cell_type": "code",
   "execution_count": 8,
   "id": "ca27059d",
   "metadata": {},
   "outputs": [
    {
     "data": {
      "text/plain": [
       "Text       0\n",
       "Emotion    0\n",
       "dtype: int64"
      ]
     },
     "execution_count": 8,
     "metadata": {},
     "output_type": "execute_result"
    }
   ],
   "source": [
    "df.isnull().sum()"
   ]
  },
  {
   "cell_type": "code",
   "execution_count": 9,
   "id": "840e8ea5",
   "metadata": {},
   "outputs": [],
   "source": [
    "category = pd.get_dummies(df.Emotion)\n",
    "df1 = pd.concat([df, category], axis=1)\n",
    "df1 = df1.drop(columns='Emotion')"
   ]
  },
  {
   "cell_type": "markdown",
   "id": "fcd7af97",
   "metadata": {},
   "source": [
    "# Data Preprocessing"
   ]
  },
  {
   "cell_type": "code",
   "execution_count": 10,
   "id": "eefa7de6",
   "metadata": {},
   "outputs": [],
   "source": [
    "X = df1['Text'].values\n",
    "y = df1[['happy', 'sadness', 'anger', 'fear', 'love', 'surprise']].values"
   ]
  },
  {
   "cell_type": "code",
   "execution_count": 11,
   "id": "6038e1f5",
   "metadata": {},
   "outputs": [],
   "source": [
    "from sklearn.model_selection import train_test_split"
   ]
  },
  {
   "cell_type": "code",
   "execution_count": 12,
   "id": "8f2988ac",
   "metadata": {},
   "outputs": [],
   "source": [
    "X_train, X_test, y_train, y_test = train_test_split(X, y, test_size=0.2, random_state=1)"
   ]
  },
  {
   "cell_type": "code",
   "execution_count": 13,
   "id": "7995be91",
   "metadata": {},
   "outputs": [],
   "source": [
    "tokenizer = Tokenizer(num_words = 5000, oov_token='<x>', filters='!\"#$%&()*+,-./:;<=>?@[\\\\]^_`{|}~\\t\\n', lower=True)\n",
    "tokenizer.fit_on_texts(X_train)\n",
    "tokenizer.fit_on_texts(X_test)\n",
    "\n",
    "Seq_train = tokenizer.texts_to_sequences(X_train)\n",
    "Seq_test = tokenizer.texts_to_sequences(X_test)\n",
    "\n",
    "Pad_train = pad_sequences(Seq_train)\n",
    "Pad_test = pad_sequences(Seq_test)"
   ]
  },
  {
   "cell_type": "markdown",
   "id": "f0537cd3",
   "metadata": {},
   "source": [
    "# Build The Model"
   ]
  },
  {
   "cell_type": "code",
   "execution_count": 14,
   "id": "86c94224",
   "metadata": {},
   "outputs": [],
   "source": [
    "model = Sequential()\n",
    "model.add(Embedding(input_dim = 5000, output_dim = 128)),\n",
    "model.add(Conv1D(256,5,padding='valid',activation='relu',strides=1))\n",
    "model.add(MaxPooling1D(pool_size=2))\n",
    "model.add (BatchNormalization()),\n",
    "model.add (Dropout(0.3)),\n",
    "model.add(Conv1D(128, 5,padding='valid',activation='relu',strides=1))\n",
    "model.add(MaxPooling1D(pool_size=2))\n",
    "model.add (BatchNormalization()),\n",
    "model.add (Dropout(0.3)),\n",
    "model.add(LSTM(128))\n",
    "model.add (Dropout(0.3)),\n",
    "model.add(Dense(32))\n",
    "model.add (Dropout(0.3)),\n",
    "model.add(Dense(6))\n",
    "model.add(Activation('softmax'))"
   ]
  },
  {
   "cell_type": "code",
   "execution_count": 15,
   "id": "c4cc0cae",
   "metadata": {},
   "outputs": [
    {
     "name": "stdout",
     "output_type": "stream",
     "text": [
      "Model: \"sequential\"\n",
      "_________________________________________________________________\n",
      " Layer (type)                Output Shape              Param #   \n",
      "=================================================================\n",
      " embedding (Embedding)       (None, None, 128)         640000    \n",
      "                                                                 \n",
      " conv1d (Conv1D)             (None, None, 256)         164096    \n",
      "                                                                 \n",
      " max_pooling1d (MaxPooling1D  (None, None, 256)        0         \n",
      " )                                                               \n",
      "                                                                 \n",
      " batch_normalization (BatchN  (None, None, 256)        1024      \n",
      " ormalization)                                                   \n",
      "                                                                 \n",
      " dropout (Dropout)           (None, None, 256)         0         \n",
      "                                                                 \n",
      " conv1d_1 (Conv1D)           (None, None, 128)         163968    \n",
      "                                                                 \n",
      " max_pooling1d_1 (MaxPooling  (None, None, 128)        0         \n",
      " 1D)                                                             \n",
      "                                                                 \n",
      " batch_normalization_1 (Batc  (None, None, 128)        512       \n",
      " hNormalization)                                                 \n",
      "                                                                 \n",
      " dropout_1 (Dropout)         (None, None, 128)         0         \n",
      "                                                                 \n",
      " lstm (LSTM)                 (None, 128)               131584    \n",
      "                                                                 \n",
      " dropout_2 (Dropout)         (None, 128)               0         \n",
      "                                                                 \n",
      " dense (Dense)               (None, 32)                4128      \n",
      "                                                                 \n",
      " dropout_3 (Dropout)         (None, 32)                0         \n",
      "                                                                 \n",
      " dense_1 (Dense)             (None, 6)                 198       \n",
      "                                                                 \n",
      " activation (Activation)     (None, 6)                 0         \n",
      "                                                                 \n",
      "=================================================================\n",
      "Total params: 1,105,510\n",
      "Trainable params: 1,104,742\n",
      "Non-trainable params: 768\n",
      "_________________________________________________________________\n"
     ]
    }
   ],
   "source": [
    "model.summary()"
   ]
  },
  {
   "cell_type": "markdown",
   "id": "9022d9b1",
   "metadata": {},
   "source": [
    "# Train The Model"
   ]
  },
  {
   "cell_type": "code",
   "execution_count": 27,
   "id": "2a5845fe",
   "metadata": {},
   "outputs": [],
   "source": [
    "model.compile(\n",
    "    optimizer='adam',\n",
    "    loss='categorical_crossentropy',\n",
    "    metrics=['accuracy']\n",
    ")"
   ]
  },
  {
   "cell_type": "code",
   "execution_count": 28,
   "id": "3c5587be",
   "metadata": {
    "scrolled": true
   },
   "outputs": [
    {
     "name": "stdout",
     "output_type": "stream",
     "text": [
      "Epoch 1/60\n",
      "68/68 [==============================] - 11s 134ms/step - loss: 1.6565 - accuracy: 0.3051 - val_loss: 1.6305 - val_accuracy: 0.3220\n",
      "Epoch 2/60\n",
      "68/68 [==============================] - 9s 129ms/step - loss: 1.5875 - accuracy: 0.3468 - val_loss: 1.6358 - val_accuracy: 0.3220\n",
      "Epoch 3/60\n",
      "68/68 [==============================] - 9s 127ms/step - loss: 1.3171 - accuracy: 0.5097 - val_loss: 1.6287 - val_accuracy: 0.4585\n",
      "Epoch 4/60\n",
      "68/68 [==============================] - 9s 127ms/step - loss: 0.8228 - accuracy: 0.7066 - val_loss: 1.3591 - val_accuracy: 0.6293\n",
      "Epoch 5/60\n",
      "68/68 [==============================] - 9s 127ms/step - loss: 0.5207 - accuracy: 0.8195 - val_loss: 0.9595 - val_accuracy: 0.8024\n",
      "Epoch 6/60\n",
      "68/68 [==============================] - 9s 126ms/step - loss: 0.3930 - accuracy: 0.8643 - val_loss: 0.6641 - val_accuracy: 0.8348\n",
      "Epoch 7/60\n",
      "68/68 [==============================] - 9s 127ms/step - loss: 0.3207 - accuracy: 0.8865 - val_loss: 0.4519 - val_accuracy: 0.8670\n",
      "Epoch 8/60\n",
      "68/68 [==============================] - 9s 128ms/step - loss: 0.2969 - accuracy: 0.8944 - val_loss: 0.3916 - val_accuracy: 0.8744\n",
      "Epoch 9/60\n",
      "68/68 [==============================] - 9s 127ms/step - loss: 0.2467 - accuracy: 0.9125 - val_loss: 0.4029 - val_accuracy: 0.8814\n",
      "Epoch 10/60\n",
      "68/68 [==============================] - 9s 127ms/step - loss: 0.2164 - accuracy: 0.9232 - val_loss: 0.4576 - val_accuracy: 0.8805\n",
      "Epoch 11/60\n",
      "68/68 [==============================] - 9s 127ms/step - loss: 0.2075 - accuracy: 0.9248 - val_loss: 0.4869 - val_accuracy: 0.8777\n",
      "Epoch 12/60\n",
      "68/68 [==============================] - 9s 127ms/step - loss: 0.1932 - accuracy: 0.9310 - val_loss: 0.5345 - val_accuracy: 0.8763\n",
      "Epoch 13/60\n",
      "68/68 [==============================] - 9s 127ms/step - loss: 0.1696 - accuracy: 0.9402 - val_loss: 0.6129 - val_accuracy: 0.8779\n",
      "Epoch 14/60\n",
      "68/68 [==============================] - 9s 127ms/step - loss: 0.1565 - accuracy: 0.9440 - val_loss: 0.6404 - val_accuracy: 0.8730\n",
      "Epoch 15/60\n",
      "68/68 [==============================] - 9s 127ms/step - loss: 0.1488 - accuracy: 0.9476 - val_loss: 0.6362 - val_accuracy: 0.8753\n",
      "Epoch 16/60\n",
      "68/68 [==============================] - 9s 127ms/step - loss: 0.1442 - accuracy: 0.9490 - val_loss: 0.6193 - val_accuracy: 0.8795\n",
      "Epoch 17/60\n",
      "68/68 [==============================] - 9s 127ms/step - loss: 0.1372 - accuracy: 0.9511 - val_loss: 0.6588 - val_accuracy: 0.8795\n",
      "Epoch 18/60\n",
      "68/68 [==============================] - 9s 127ms/step - loss: 0.1542 - accuracy: 0.9444 - val_loss: 0.6843 - val_accuracy: 0.8709\n",
      "Epoch 19/60\n",
      "68/68 [==============================] - 9s 127ms/step - loss: 0.1278 - accuracy: 0.9536 - val_loss: 0.6604 - val_accuracy: 0.8781\n",
      "Epoch 20/60\n",
      "68/68 [==============================] - 9s 127ms/step - loss: 0.1266 - accuracy: 0.9551 - val_loss: 0.7239 - val_accuracy: 0.8753\n",
      "Epoch 21/60\n",
      "68/68 [==============================] - 9s 129ms/step - loss: 0.1254 - accuracy: 0.9546 - val_loss: 0.7241 - val_accuracy: 0.8751\n",
      "Epoch 22/60\n",
      "68/68 [==============================] - 9s 129ms/step - loss: 0.1173 - accuracy: 0.9585 - val_loss: 0.7335 - val_accuracy: 0.8742\n",
      "Epoch 23/60\n",
      "68/68 [==============================] - 10s 141ms/step - loss: 0.1103 - accuracy: 0.9605 - val_loss: 0.7479 - val_accuracy: 0.8709\n",
      "Epoch 24/60\n",
      "68/68 [==============================] - 10s 149ms/step - loss: 0.1182 - accuracy: 0.9572 - val_loss: 0.7388 - val_accuracy: 0.8733\n",
      "Epoch 25/60\n",
      "68/68 [==============================] - 9s 131ms/step - loss: 0.1107 - accuracy: 0.9595 - val_loss: 0.7177 - val_accuracy: 0.8749\n",
      "Epoch 26/60\n",
      "68/68 [==============================] - 9s 129ms/step - loss: 0.1041 - accuracy: 0.9620 - val_loss: 0.7494 - val_accuracy: 0.8740\n",
      "Epoch 27/60\n",
      "68/68 [==============================] - 9s 127ms/step - loss: 0.1015 - accuracy: 0.9614 - val_loss: 0.8098 - val_accuracy: 0.8663\n",
      "Epoch 28/60\n",
      "68/68 [==============================] - 9s 128ms/step - loss: 0.0991 - accuracy: 0.9631 - val_loss: 0.8101 - val_accuracy: 0.8693\n",
      "Epoch 29/60\n",
      "68/68 [==============================] - 9s 133ms/step - loss: 0.1313 - accuracy: 0.9523 - val_loss: 0.7765 - val_accuracy: 0.8698\n",
      "Epoch 30/60\n",
      "68/68 [==============================] - 9s 129ms/step - loss: 0.1123 - accuracy: 0.9587 - val_loss: 0.7602 - val_accuracy: 0.8742\n",
      "Epoch 31/60\n",
      "68/68 [==============================] - 9s 130ms/step - loss: 0.1074 - accuracy: 0.9613 - val_loss: 0.7326 - val_accuracy: 0.8777\n",
      "Epoch 32/60\n",
      "68/68 [==============================] - 9s 130ms/step - loss: 0.1015 - accuracy: 0.9624 - val_loss: 0.7210 - val_accuracy: 0.8763\n",
      "Epoch 33/60\n",
      "68/68 [==============================] - 9s 128ms/step - loss: 0.0944 - accuracy: 0.9659 - val_loss: 0.7722 - val_accuracy: 0.8730\n",
      "Epoch 34/60\n",
      "68/68 [==============================] - 9s 131ms/step - loss: 0.1166 - accuracy: 0.9576 - val_loss: 0.7514 - val_accuracy: 0.8733\n",
      "Epoch 35/60\n",
      "68/68 [==============================] - 9s 129ms/step - loss: 0.0990 - accuracy: 0.9641 - val_loss: 0.7493 - val_accuracy: 0.8760\n",
      "Epoch 36/60\n",
      "68/68 [==============================] - 9s 134ms/step - loss: 0.0933 - accuracy: 0.9652 - val_loss: 0.7579 - val_accuracy: 0.8760\n",
      "Epoch 37/60\n",
      "68/68 [==============================] - 9s 135ms/step - loss: 0.0923 - accuracy: 0.9658 - val_loss: 0.7608 - val_accuracy: 0.8763\n",
      "Epoch 38/60\n",
      "68/68 [==============================] - 9s 128ms/step - loss: 0.0899 - accuracy: 0.9676 - val_loss: 0.7741 - val_accuracy: 0.8751\n",
      "Epoch 39/60\n",
      "68/68 [==============================] - 9s 133ms/step - loss: 0.0885 - accuracy: 0.9675 - val_loss: 0.7858 - val_accuracy: 0.8770\n",
      "Epoch 40/60\n",
      "68/68 [==============================] - 9s 130ms/step - loss: 0.0835 - accuracy: 0.9694 - val_loss: 0.7862 - val_accuracy: 0.8795\n",
      "Epoch 41/60\n",
      "68/68 [==============================] - 9s 128ms/step - loss: 0.0899 - accuracy: 0.9664 - val_loss: 0.7790 - val_accuracy: 0.8791\n",
      "Epoch 42/60\n",
      "68/68 [==============================] - 9s 129ms/step - loss: 0.0848 - accuracy: 0.9678 - val_loss: 0.8038 - val_accuracy: 0.8788\n",
      "Epoch 43/60\n",
      "68/68 [==============================] - 9s 131ms/step - loss: 0.0813 - accuracy: 0.9694 - val_loss: 0.8154 - val_accuracy: 0.8786\n",
      "Epoch 44/60\n",
      "68/68 [==============================] - 9s 131ms/step - loss: 0.0812 - accuracy: 0.9701 - val_loss: 0.8253 - val_accuracy: 0.8791\n",
      "Epoch 45/60\n",
      "68/68 [==============================] - 9s 127ms/step - loss: 0.0788 - accuracy: 0.9702 - val_loss: 0.8420 - val_accuracy: 0.8819\n",
      "Epoch 46/60\n",
      "68/68 [==============================] - 9s 127ms/step - loss: 0.0827 - accuracy: 0.9685 - val_loss: 0.8052 - val_accuracy: 0.8807\n",
      "Epoch 47/60\n",
      "68/68 [==============================] - 9s 127ms/step - loss: 0.0760 - accuracy: 0.9702 - val_loss: 0.8347 - val_accuracy: 0.8802\n",
      "Epoch 48/60\n",
      "68/68 [==============================] - 9s 127ms/step - loss: 0.0764 - accuracy: 0.9708 - val_loss: 0.8463 - val_accuracy: 0.8784\n",
      "Epoch 49/60\n",
      "68/68 [==============================] - 9s 128ms/step - loss: 0.0834 - accuracy: 0.9670 - val_loss: 0.8339 - val_accuracy: 0.8807\n",
      "Epoch 50/60\n",
      "68/68 [==============================] - 9s 129ms/step - loss: 0.0802 - accuracy: 0.9681 - val_loss: 0.8496 - val_accuracy: 0.8751\n",
      "Epoch 51/60\n",
      "68/68 [==============================] - 9s 129ms/step - loss: 0.0854 - accuracy: 0.9682 - val_loss: 0.8367 - val_accuracy: 0.8777\n",
      "Epoch 52/60\n",
      "68/68 [==============================] - 9s 129ms/step - loss: 0.0800 - accuracy: 0.9688 - val_loss: 0.8472 - val_accuracy: 0.8777\n",
      "Epoch 53/60\n",
      "68/68 [==============================] - 9s 131ms/step - loss: 0.0793 - accuracy: 0.9695 - val_loss: 0.8557 - val_accuracy: 0.8765\n",
      "Epoch 54/60\n",
      "68/68 [==============================] - 9s 128ms/step - loss: 0.0832 - accuracy: 0.9688 - val_loss: 0.8561 - val_accuracy: 0.8726\n",
      "Epoch 55/60\n",
      "68/68 [==============================] - 9s 129ms/step - loss: 0.1278 - accuracy: 0.9542 - val_loss: 0.7682 - val_accuracy: 0.8744\n",
      "Epoch 56/60\n",
      "68/68 [==============================] - 9s 131ms/step - loss: 0.1067 - accuracy: 0.9620 - val_loss: 0.8192 - val_accuracy: 0.8698\n",
      "Epoch 57/60\n",
      "68/68 [==============================] - 9s 137ms/step - loss: 0.0886 - accuracy: 0.9667 - val_loss: 0.8201 - val_accuracy: 0.8716\n",
      "Epoch 58/60\n",
      "68/68 [==============================] - 9s 136ms/step - loss: 0.0823 - accuracy: 0.9677 - val_loss: 0.8388 - val_accuracy: 0.8721\n",
      "Epoch 59/60\n",
      "68/68 [==============================] - 9s 134ms/step - loss: 0.0838 - accuracy: 0.9690 - val_loss: 0.7972 - val_accuracy: 0.8779\n",
      "Epoch 60/60\n",
      "68/68 [==============================] - 9s 133ms/step - loss: 0.0788 - accuracy: 0.9705 - val_loss: 0.8377 - val_accuracy: 0.8772\n"
     ]
    }
   ],
   "source": [
    "history = model.fit(\n",
    "    Pad_train, y_train,\n",
    "    epochs = 60,\n",
    "    batch_size = 256,\n",
    "    validation_data = (Pad_test, y_test),\n",
    "    verbose = 1,\n",
    ")"
   ]
  },
  {
   "cell_type": "markdown",
   "id": "46173041",
   "metadata": {},
   "source": [
    "# Plot The Graph"
   ]
  },
  {
   "cell_type": "code",
   "execution_count": 32,
   "id": "65673c59",
   "metadata": {},
   "outputs": [
    {
     "data": {
      "image/png": "[encoded data removed]",
      "text/plain": [
       "<Figure size 432x288 with 1 Axes>"
      ]
     },
     "metadata": {
      "needs_background": "light"
     },
     "output_type": "display_data"
    },
    {
     "data": {
      "image/png": "[encoded data removed]",
      "text/plain": [
       "<Figure size 432x288 with 1 Axes>"
      ]
     },
     "metadata": {
      "needs_background": "light"
     },
     "output_type": "display_data"
    }
   ],
   "source": [
    "plt.figure(figsize=(6,4))\n",
    "plt.plot(history.history['accuracy'])\n",
    "plt.plot(history.history['val_accuracy'])\n",
    "plt.title('Accuracy')\n",
    "plt.ylabel('accuracy')\n",
    "plt.xlabel('epoch')\n",
    "plt.legend(['train', 'Validation'], loc='upper left')\n",
    "plt.show()\n",
    "\n",
    "plt.figure(figsize=(6,4))\n",
    "plt.plot(history.history['loss'])\n",
    "plt.plot(history.history['val_loss'])\n",
    "plt.title('Loss')\n",
    "plt.ylabel('Loss')\n",
    "plt.xlabel('epoch')\n",
    "plt.legend(['train', 'Validation'], loc='upper left')\n",
    "plt.show()"
   ]
  },
  {
   "cell_type": "code",
   "execution_count": null,
   "id": "0cb9fdf6",
   "metadata": {},
   "outputs": [],
   "source": []
  }
 ],
 "metadata": {
  "kernelspec": {
   "display_name": "Python 3 (ipykernel)",
   "language": "python",
   "name": "python3"
  },
  "language_info": {
   "codemirror_mode": {
    "name": "ipython",
    "version": 3
   },
   "file_extension": ".py",
   "mimetype": "text/x-python",
   "name": "python",
   "nbconvert_exporter": "python",
   "pygments_lexer": "ipython3",
   "version": "3.9.12"
  }
 },
 "nbformat": 4,
 "nbformat_minor": 5
}
