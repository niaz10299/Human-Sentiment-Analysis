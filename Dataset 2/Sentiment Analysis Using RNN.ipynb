{
 "cells": [
  {
   "cell_type": "markdown",
   "id": "dce9b346",
   "metadata": {},
   "source": [
    "# Import Libraries"
   ]
  },
  {
   "cell_type": "code",
   "execution_count": 1,
   "id": "acd0899a",
   "metadata": {},
   "outputs": [],
   "source": [
    "import numpy as np \n",
    "import pandas as pd \n",
    "import pandas as pd"
   ]
  },
  {
   "cell_type": "code",
   "execution_count": 2,
   "id": "f29814d7",
   "metadata": {},
   "outputs": [],
   "source": [
    "import tensorflow as tf\n",
    "from tensorflow.keras.preprocessing.text import Tokenizer\n",
    "from tensorflow.keras.preprocessing.sequence import pad_sequences\n",
    "from tensorflow.keras.preprocessing.text import one_hot\n",
    "import matplotlib.pyplot as plt"
   ]
  },
  {
   "cell_type": "code",
   "execution_count": 1,
   "id": "c389d89b",
   "metadata": {},
   "outputs": [],
   "source": [
    "from tensorflow.keras import Sequential\n",
    "from tensorflow.keras.layers import Embedding, Dense, Dropout, BatchNormalization, Flatten, LSTM,Conv1D,MaxPooling1D\n",
    "from tensorflow.keras.callbacks import Callback, ReduceLROnPlateau\n",
    "from tensorflow.keras.optimizers import Adam\n",
    "from tensorflow.keras.layers import Dense, LSTM, Embedding, Dropout, Activation, Flatten, Input, concatenate, Conv1D, GlobalMaxPooling1D,SimpleRNN"
   ]
  },
  {
   "cell_type": "markdown",
   "id": "9ce26d5c",
   "metadata": {},
   "source": [
    "# Dataset"
   ]
  },
  {
   "cell_type": "code",
   "execution_count": 3,
   "id": "4f035b4d",
   "metadata": {},
   "outputs": [
    {
     "data": {
      "text/html": [
       "<div>\n",
       "<style scoped>\n",
       "    .dataframe tbody tr th:only-of-type {\n",
       "        vertical-align: middle;\n",
       "    }\n",
       "\n",
       "    .dataframe tbody tr th {\n",
       "        vertical-align: top;\n",
       "    }\n",
       "\n",
       "    .dataframe thead th {\n",
       "        text-align: right;\n",
       "    }\n",
       "</style>\n",
       "<table border=\"1\" class=\"dataframe\">\n",
       "  <thead>\n",
       "    <tr style=\"text-align: right;\">\n",
       "      <th></th>\n",
       "      <th>Text</th>\n",
       "      <th>Emotion</th>\n",
       "    </tr>\n",
       "  </thead>\n",
       "  <tbody>\n",
       "    <tr>\n",
       "      <th>0</th>\n",
       "      <td>i didnt feel humiliated</td>\n",
       "      <td>sadness</td>\n",
       "    </tr>\n",
       "    <tr>\n",
       "      <th>1</th>\n",
       "      <td>i can go from feeling so hopeless to so damned...</td>\n",
       "      <td>sadness</td>\n",
       "    </tr>\n",
       "    <tr>\n",
       "      <th>2</th>\n",
       "      <td>im grabbing a minute to post i feel greedy wrong</td>\n",
       "      <td>anger</td>\n",
       "    </tr>\n",
       "    <tr>\n",
       "      <th>3</th>\n",
       "      <td>i am ever feeling nostalgic about the fireplac...</td>\n",
       "      <td>love</td>\n",
       "    </tr>\n",
       "    <tr>\n",
       "      <th>4</th>\n",
       "      <td>i am feeling grouchy</td>\n",
       "      <td>anger</td>\n",
       "    </tr>\n",
       "  </tbody>\n",
       "</table>\n",
       "</div>"
      ],
      "text/plain": [
       "                                                Text  Emotion\n",
       "0                            i didnt feel humiliated  sadness\n",
       "1  i can go from feeling so hopeless to so damned...  sadness\n",
       "2   im grabbing a minute to post i feel greedy wrong    anger\n",
       "3  i am ever feeling nostalgic about the fireplac...     love\n",
       "4                               i am feeling grouchy    anger"
      ]
     },
     "execution_count": 3,
     "metadata": {},
     "output_type": "execute_result"
    }
   ],
   "source": [
    "filePath = 'D:\\\\New folder\\\\Emotion_final.csv'\n",
    "df = pd.read_csv(filePath)\n",
    "df.head()"
   ]
  },
  {
   "cell_type": "code",
   "execution_count": 4,
   "id": "8a12d52d",
   "metadata": {},
   "outputs": [
    {
     "data": {
      "text/plain": [
       "happy       7029\n",
       "sadness     6265\n",
       "anger       2993\n",
       "fear        2652\n",
       "love        1641\n",
       "surprise     879\n",
       "Name: Emotion, dtype: int64"
      ]
     },
     "execution_count": 4,
     "metadata": {},
     "output_type": "execute_result"
    }
   ],
   "source": [
    "df['Emotion'].value_counts()"
   ]
  },
  {
   "cell_type": "code",
   "execution_count": 5,
   "id": "ca27059d",
   "metadata": {},
   "outputs": [
    {
     "data": {
      "text/plain": [
       "Text       0\n",
       "Emotion    0\n",
       "dtype: int64"
      ]
     },
     "execution_count": 5,
     "metadata": {},
     "output_type": "execute_result"
    }
   ],
   "source": [
    "df.isnull().sum()"
   ]
  },
  {
   "cell_type": "code",
   "execution_count": 6,
   "id": "840e8ea5",
   "metadata": {},
   "outputs": [],
   "source": [
    "category = pd.get_dummies(df.Emotion)\n",
    "df1 = pd.concat([df, category], axis=1)\n",
    "df1 = df1.drop(columns='Emotion')"
   ]
  },
  {
   "cell_type": "markdown",
   "id": "39d8d8cb",
   "metadata": {},
   "source": [
    "# Data Preprocessing"
   ]
  },
  {
   "cell_type": "code",
   "execution_count": 7,
   "id": "eefa7de6",
   "metadata": {},
   "outputs": [],
   "source": [
    "X = df1['Text'].values\n",
    "y = df1[['happy', 'sadness', 'anger', 'fear', 'love', 'surprise']].values"
   ]
  },
  {
   "cell_type": "code",
   "execution_count": 8,
   "id": "6038e1f5",
   "metadata": {},
   "outputs": [],
   "source": [
    "from sklearn.model_selection import train_test_split"
   ]
  },
  {
   "cell_type": "code",
   "execution_count": 9,
   "id": "8f2988ac",
   "metadata": {},
   "outputs": [],
   "source": [
    "X_train, X_test, y_train, y_test = train_test_split(X, y, test_size=0.2, random_state=1)"
   ]
  },
  {
   "cell_type": "code",
   "execution_count": 11,
   "id": "7995be91",
   "metadata": {},
   "outputs": [],
   "source": [
    "tokenizer = Tokenizer(num_words = 5000, oov_token='<x>', filters='!\"#$%&()*+,-./:;<=>?@[\\\\]^_`{|}~\\t\\n', lower=True)\n",
    "tokenizer.fit_on_texts(X_train)\n",
    "tokenizer.fit_on_texts(X_test)\n",
    "\n",
    "Seq_train = tokenizer.texts_to_sequences(X_train)\n",
    "Seq_test = tokenizer.texts_to_sequences(X_test)\n",
    "\n",
    "Pad_train = pad_sequences(Seq_train)\n",
    "Pad_test = pad_sequences(Seq_test)"
   ]
  },
  {
   "cell_type": "markdown",
   "id": "bef6aba4",
   "metadata": {},
   "source": [
    "# Build The Model"
   ]
  },
  {
   "cell_type": "code",
   "execution_count": 13,
   "id": "86c94224",
   "metadata": {},
   "outputs": [],
   "source": [
    "model = Sequential()\n",
    "model.add(Embedding(input_dim = 5000, output_dim = 128)),\n",
    "model.add(SimpleRNN(128,activation='relu'))\n",
    "model.add (Dropout(0.3))\n",
    "model.add(Dense(64,activation='relu'))\n",
    "model.add (Dropout(0.3))\n",
    "model.add(Dense(32,activation='relu'))\n",
    "model.add (Dropout(0.3))\n",
    "model.add(Dense(16,activation='relu'))\n",
    "model.add (Dropout(0.3))\n",
    "model.add(Dense(6))\n",
    "model.add(Activation('softmax'))"
   ]
  },
  {
   "cell_type": "code",
   "execution_count": 14,
   "id": "6b974d17",
   "metadata": {},
   "outputs": [
    {
     "name": "stdout",
     "output_type": "stream",
     "text": [
      "Model: \"sequential\"\n",
      "_________________________________________________________________\n",
      " Layer (type)                Output Shape              Param #   \n",
      "=================================================================\n",
      " embedding (Embedding)       (None, None, 128)         640000    \n",
      "                                                                 \n",
      " simple_rnn (SimpleRNN)      (None, 128)               32896     \n",
      "                                                                 \n",
      " dropout (Dropout)           (None, 128)               0         \n",
      "                                                                 \n",
      " dense (Dense)               (None, 64)                8256      \n",
      "                                                                 \n",
      " dropout_1 (Dropout)         (None, 64)                0         \n",
      "                                                                 \n",
      " dense_1 (Dense)             (None, 32)                2080      \n",
      "                                                                 \n",
      " dropout_2 (Dropout)         (None, 32)                0         \n",
      "                                                                 \n",
      " dense_2 (Dense)             (None, 16)                528       \n",
      "                                                                 \n",
      " dropout_3 (Dropout)         (None, 16)                0         \n",
      "                                                                 \n",
      " dense_3 (Dense)             (None, 6)                 102       \n",
      "                                                                 \n",
      " activation (Activation)     (None, 6)                 0         \n",
      "                                                                 \n",
      "=================================================================\n",
      "Total params: 683,862\n",
      "Trainable params: 683,862\n",
      "Non-trainable params: 0\n",
      "_________________________________________________________________\n"
     ]
    }
   ],
   "source": [
    "model.summary()"
   ]
  },
  {
   "cell_type": "markdown",
   "id": "30c42678",
   "metadata": {},
   "source": [
    "# Train The Model"
   ]
  },
  {
   "cell_type": "code",
   "execution_count": 15,
   "id": "2a5845fe",
   "metadata": {},
   "outputs": [],
   "source": [
    "model.compile(\n",
    "    optimizer='adam',\n",
    "    loss='categorical_crossentropy',\n",
    "    metrics=['accuracy']\n",
    ")"
   ]
  },
  {
   "cell_type": "code",
   "execution_count": 16,
   "id": "3c5587be",
   "metadata": {
    "scrolled": true
   },
   "outputs": [
    {
     "name": "stdout",
     "output_type": "stream",
     "text": [
      "Epoch 1/60\n",
      "68/68 [==============================] - 4s 45ms/step - loss: 1.6892 - accuracy: 0.3031 - val_loss: 1.5551 - val_accuracy: 0.3220\n",
      "Epoch 2/60\n",
      "68/68 [==============================] - 3s 41ms/step - loss: 1.5312 - accuracy: 0.3368 - val_loss: 1.3287 - val_accuracy: 0.3935\n",
      "Epoch 3/60\n",
      "68/68 [==============================] - 3s 41ms/step - loss: 1.3126 - accuracy: 0.4154 - val_loss: 1.2121 - val_accuracy: 0.5084\n",
      "Epoch 4/60\n",
      "68/68 [==============================] - 3s 41ms/step - loss: 1.0517 - accuracy: 0.5829 - val_loss: 0.8720 - val_accuracy: 0.6594\n",
      "Epoch 5/60\n",
      "68/68 [==============================] - 3s 44ms/step - loss: 0.8103 - accuracy: 0.6768 - val_loss: 0.8118 - val_accuracy: 0.6729\n",
      "Epoch 6/60\n",
      "68/68 [==============================] - 3s 46ms/step - loss: 0.6809 - accuracy: 0.7103 - val_loss: 0.6443 - val_accuracy: 0.7116\n",
      "Epoch 7/60\n",
      "68/68 [==============================] - 3s 46ms/step - loss: 0.5917 - accuracy: 0.7283 - val_loss: 0.7144 - val_accuracy: 0.6922\n",
      "Epoch 8/60\n",
      "68/68 [==============================] - 3s 43ms/step - loss: 0.5592 - accuracy: 0.7538 - val_loss: 0.6329 - val_accuracy: 0.7509\n",
      "Epoch 9/60\n",
      "68/68 [==============================] - 3s 43ms/step - loss: 0.4893 - accuracy: 0.7951 - val_loss: 0.6631 - val_accuracy: 0.7815\n",
      "Epoch 10/60\n",
      "68/68 [==============================] - 3s 51ms/step - loss: 0.4820 - accuracy: 0.8188 - val_loss: 0.6462 - val_accuracy: 0.7768\n",
      "Epoch 11/60\n",
      "68/68 [==============================] - 3s 49ms/step - loss: 0.4873 - accuracy: 0.8229 - val_loss: 0.7857 - val_accuracy: 0.7910\n",
      "Epoch 12/60\n",
      "68/68 [==============================] - 3s 43ms/step - loss: 0.4515 - accuracy: 0.8498 - val_loss: 0.6330 - val_accuracy: 0.8336\n",
      "Epoch 13/60\n",
      "68/68 [==============================] - 3s 46ms/step - loss: 0.3999 - accuracy: 0.8601 - val_loss: 0.7146 - val_accuracy: 0.8562\n",
      "Epoch 14/60\n",
      "68/68 [==============================] - 3s 45ms/step - loss: 0.3944 - accuracy: 0.8748 - val_loss: 0.6262 - val_accuracy: 0.8567\n",
      "Epoch 15/60\n",
      "68/68 [==============================] - 3s 43ms/step - loss: 0.3617 - accuracy: 0.8876 - val_loss: 0.7694 - val_accuracy: 0.8131\n",
      "Epoch 16/60\n",
      "68/68 [==============================] - 3s 45ms/step - loss: 0.3141 - accuracy: 0.8981 - val_loss: 0.7256 - val_accuracy: 0.8635\n",
      "Epoch 17/60\n",
      "68/68 [==============================] - 3s 45ms/step - loss: 0.2843 - accuracy: 0.9086 - val_loss: 0.7606 - val_accuracy: 0.8744\n",
      "Epoch 18/60\n",
      "68/68 [==============================] - 3s 48ms/step - loss: 0.4657 - accuracy: 0.8656 - val_loss: 0.7009 - val_accuracy: 0.8194\n",
      "Epoch 19/60\n",
      "68/68 [==============================] - 3s 49ms/step - loss: 0.3138 - accuracy: 0.8958 - val_loss: 0.6840 - val_accuracy: 0.8705\n",
      "Epoch 20/60\n",
      "68/68 [==============================] - 3s 46ms/step - loss: 0.2620 - accuracy: 0.9186 - val_loss: 0.7088 - val_accuracy: 0.8728\n",
      "Epoch 21/60\n",
      "68/68 [==============================] - 3s 46ms/step - loss: 0.2678 - accuracy: 0.9155 - val_loss: 0.8822 - val_accuracy: 0.8635\n",
      "Epoch 22/60\n",
      "68/68 [==============================] - 3s 46ms/step - loss: 0.2401 - accuracy: 0.9270 - val_loss: 0.8722 - val_accuracy: 0.8802\n",
      "Epoch 23/60\n",
      "68/68 [==============================] - 3s 46ms/step - loss: 0.2228 - accuracy: 0.9331 - val_loss: 1.0381 - val_accuracy: 0.8781\n",
      "Epoch 24/60\n",
      "68/68 [==============================] - 3s 45ms/step - loss: 0.2115 - accuracy: 0.9368 - val_loss: 0.8960 - val_accuracy: 0.8709\n",
      "Epoch 25/60\n",
      "68/68 [==============================] - 3s 46ms/step - loss: 0.2134 - accuracy: 0.9348 - val_loss: 1.5353 - val_accuracy: 0.8770\n",
      "Epoch 26/60\n",
      "68/68 [==============================] - 3s 47ms/step - loss: 0.2083 - accuracy: 0.9377 - val_loss: 0.7616 - val_accuracy: 0.8770\n",
      "Epoch 27/60\n",
      "68/68 [==============================] - 3s 47ms/step - loss: 0.1868 - accuracy: 0.9448 - val_loss: 0.8794 - val_accuracy: 0.8698\n",
      "Epoch 28/60\n",
      "68/68 [==============================] - 3s 45ms/step - loss: 0.1808 - accuracy: 0.9510 - val_loss: 0.9378 - val_accuracy: 0.8805\n",
      "Epoch 29/60\n",
      "68/68 [==============================] - 3s 45ms/step - loss: 0.1698 - accuracy: 0.9517 - val_loss: 0.9500 - val_accuracy: 0.8756\n",
      "Epoch 30/60\n",
      "68/68 [==============================] - 3s 45ms/step - loss: 0.1709 - accuracy: 0.9506 - val_loss: 1.1037 - val_accuracy: 0.8765\n",
      "Epoch 31/60\n",
      "68/68 [==============================] - 3s 45ms/step - loss: 0.1869 - accuracy: 0.9477 - val_loss: 1.2981 - val_accuracy: 0.8753\n",
      "Epoch 32/60\n",
      "68/68 [==============================] - 3s 46ms/step - loss: 0.3320 - accuracy: 0.9092 - val_loss: 0.9348 - val_accuracy: 0.8707\n",
      "Epoch 33/60\n",
      "68/68 [==============================] - 3s 44ms/step - loss: 0.1966 - accuracy: 0.9414 - val_loss: 0.8470 - val_accuracy: 0.8826\n",
      "Epoch 34/60\n",
      "68/68 [==============================] - 3s 44ms/step - loss: 0.2061 - accuracy: 0.9405 - val_loss: 0.6973 - val_accuracy: 0.8693\n",
      "Epoch 35/60\n",
      "68/68 [==============================] - 3s 46ms/step - loss: 0.1848 - accuracy: 0.9440 - val_loss: 0.9081 - val_accuracy: 0.8893\n",
      "Epoch 36/60\n",
      "68/68 [==============================] - 3s 45ms/step - loss: 0.1733 - accuracy: 0.9506 - val_loss: 0.8068 - val_accuracy: 0.8844\n",
      "Epoch 37/60\n",
      "68/68 [==============================] - 3s 44ms/step - loss: 0.1349 - accuracy: 0.9603 - val_loss: 1.2428 - val_accuracy: 0.8893\n",
      "Epoch 38/60\n",
      "68/68 [==============================] - 3s 45ms/step - loss: 0.1362 - accuracy: 0.9608 - val_loss: 1.0741 - val_accuracy: 0.8865\n",
      "Epoch 39/60\n",
      "68/68 [==============================] - 4s 54ms/step - loss: 0.1342 - accuracy: 0.9607 - val_loss: 1.3139 - val_accuracy: 0.8870\n",
      "Epoch 40/60\n",
      "68/68 [==============================] - 3s 47ms/step - loss: 0.2258 - accuracy: 0.9397 - val_loss: 1.0664 - val_accuracy: 0.8649\n",
      "Epoch 41/60\n",
      "68/68 [==============================] - 3s 45ms/step - loss: 0.1540 - accuracy: 0.9556 - val_loss: 1.1851 - val_accuracy: 0.8877\n",
      "Epoch 42/60\n",
      "68/68 [==============================] - 3s 46ms/step - loss: 0.1339 - accuracy: 0.9618 - val_loss: 1.4575 - val_accuracy: 0.8844\n",
      "Epoch 43/60\n",
      "68/68 [==============================] - 3s 43ms/step - loss: 0.1269 - accuracy: 0.9638 - val_loss: 1.6411 - val_accuracy: 0.8879\n",
      "Epoch 44/60\n",
      "68/68 [==============================] - 3s 44ms/step - loss: 0.1190 - accuracy: 0.9665 - val_loss: 1.0411 - val_accuracy: 0.8793\n",
      "Epoch 45/60\n",
      "68/68 [==============================] - 3s 46ms/step - loss: 0.1249 - accuracy: 0.9634 - val_loss: 1.2472 - val_accuracy: 0.8935\n",
      "Epoch 46/60\n",
      "68/68 [==============================] - 3s 44ms/step - loss: 0.1457 - accuracy: 0.9631 - val_loss: 0.8256 - val_accuracy: 0.8793\n",
      "Epoch 47/60\n",
      "68/68 [==============================] - 3s 44ms/step - loss: 0.2413 - accuracy: 0.9332 - val_loss: 0.7033 - val_accuracy: 0.8719\n",
      "Epoch 48/60\n",
      "68/68 [==============================] - 3s 46ms/step - loss: 0.1824 - accuracy: 0.9507 - val_loss: 0.7523 - val_accuracy: 0.8891\n",
      "Epoch 49/60\n",
      "68/68 [==============================] - 3s 45ms/step - loss: 0.1318 - accuracy: 0.9638 - val_loss: 0.9173 - val_accuracy: 0.8891\n",
      "Epoch 50/60\n",
      "68/68 [==============================] - 3s 43ms/step - loss: 0.1381 - accuracy: 0.9612 - val_loss: 0.8223 - val_accuracy: 0.8483\n",
      "Epoch 51/60\n",
      "68/68 [==============================] - 3s 45ms/step - loss: 0.1772 - accuracy: 0.9475 - val_loss: 0.9523 - val_accuracy: 0.8861\n",
      "Epoch 52/60\n",
      "68/68 [==============================] - 3s 47ms/step - loss: 0.1688 - accuracy: 0.9567 - val_loss: 0.9055 - val_accuracy: 0.8931\n",
      "Epoch 53/60\n",
      "68/68 [==============================] - 3s 43ms/step - loss: 0.1400 - accuracy: 0.9628 - val_loss: 0.8884 - val_accuracy: 0.8986\n",
      "Epoch 54/60\n",
      "68/68 [==============================] - 3s 45ms/step - loss: 0.1312 - accuracy: 0.9644 - val_loss: 0.9167 - val_accuracy: 0.8926\n",
      "Epoch 55/60\n",
      "68/68 [==============================] - 4s 60ms/step - loss: 0.1190 - accuracy: 0.9669 - val_loss: 0.8634 - val_accuracy: 0.8961\n",
      "Epoch 56/60\n",
      "68/68 [==============================] - 3s 47ms/step - loss: 0.1028 - accuracy: 0.9697 - val_loss: 1.0248 - val_accuracy: 0.8935\n",
      "Epoch 57/60\n",
      "68/68 [==============================] - 3s 44ms/step - loss: 0.0952 - accuracy: 0.9730 - val_loss: 1.3550 - val_accuracy: 0.8945\n",
      "Epoch 58/60\n",
      "68/68 [==============================] - 3s 46ms/step - loss: 0.0876 - accuracy: 0.9754 - val_loss: 1.1258 - val_accuracy: 0.8940\n",
      "Epoch 59/60\n",
      "68/68 [==============================] - 3s 44ms/step - loss: 0.0879 - accuracy: 0.9752 - val_loss: 1.5513 - val_accuracy: 0.8973\n",
      "Epoch 60/60\n",
      "68/68 [==============================] - 3s 44ms/step - loss: 0.0903 - accuracy: 0.9738 - val_loss: 2.3941 - val_accuracy: 0.9003\n"
     ]
    }
   ],
   "source": [
    "history = model.fit(\n",
    "    Pad_train, y_train,\n",
    "    epochs = 60,\n",
    "    batch_size = 256,\n",
    "    validation_data = (Pad_test, y_test),\n",
    "    verbose = 1,\n",
    ")"
   ]
  },
  {
   "cell_type": "markdown",
   "id": "1d0ec2f8",
   "metadata": {},
   "source": [
    "# Plot The Graph"
   ]
  },
  {
   "cell_type": "code",
   "execution_count": 20,
   "id": "65673c59",
   "metadata": {},
   "outputs": [
    {
     "data": {
      "image/png": "[encoded data removed]",
      "text/plain": [
       "<Figure size 432x288 with 1 Axes>"
      ]
     },
     "metadata": {
      "needs_background": "light"
     },
     "output_type": "display_data"
    },
    {
     "data": {
      "image/png": "[encoded data removed]",
      "text/plain": [
       "<Figure size 432x288 with 1 Axes>"
      ]
     },
     "metadata": {
      "needs_background": "light"
     },
     "output_type": "display_data"
    }
   ],
   "source": [
    "plt.figure(figsize=(6,4))\n",
    "plt.plot(history.history['accuracy'])\n",
    "plt.plot(history.history['val_accuracy'])\n",
    "plt.title('Accuracy')\n",
    "plt.ylabel('accuracy')\n",
    "plt.xlabel('epoch')\n",
    "plt.legend(['train', 'Validation'], loc='upper left')\n",
    "plt.show()\n",
    "\n",
    "plt.figure(figsize=(6,4))\n",
    "plt.plot(history.history['loss'])\n",
    "plt.plot(history.history['val_loss'])\n",
    "plt.title('Loss')\n",
    "plt.ylabel('Loss')\n",
    "plt.xlabel('epoch')\n",
    "plt.legend(['train', 'Validation'], loc='upper left')\n",
    "plt.show()"
   ]
  },
  {
   "cell_type": "code",
   "execution_count": null,
   "id": "0cb9fdf6",
   "metadata": {},
   "outputs": [],
   "source": []
  }
 ],
 "metadata": {
  "kernelspec": {
   "display_name": "Python 3 (ipykernel)",
   "language": "python",
   "name": "python3"
  },
  "language_info": {
   "codemirror_mode": {
    "name": "ipython",
    "version": 3
   },
   "file_extension": ".py",
   "mimetype": "text/x-python",
   "name": "python",
   "nbconvert_exporter": "python",
   "pygments_lexer": "ipython3",
   "version": "3.9.12"
  }
 },
 "nbformat": 4,
 "nbformat_minor": 5
}
