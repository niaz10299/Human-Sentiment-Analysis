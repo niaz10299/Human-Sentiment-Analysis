{
 "cells": [
  {
   "cell_type": "markdown",
   "id": "40f61f39",
   "metadata": {},
   "source": [
    "# Import Libraries"
   ]
  },
  {
   "cell_type": "code",
   "execution_count": 1,
   "id": "acd0899a",
   "metadata": {},
   "outputs": [],
   "source": [
    "import numpy as np \n",
    "import pandas as pd \n",
    "import pandas as pd"
   ]
  },
  {
   "cell_type": "code",
   "execution_count": 2,
   "id": "f29814d7",
   "metadata": {},
   "outputs": [],
   "source": [
    "import tensorflow as tf\n",
    "from tensorflow.keras.preprocessing.text import Tokenizer\n",
    "from tensorflow.keras.preprocessing.sequence import pad_sequences\n",
    "from tensorflow.keras.preprocessing.text import one_hot\n",
    "import matplotlib.pyplot as plt"
   ]
  },
  {
   "cell_type": "code",
   "execution_count": 1,
   "id": "016fff3a",
   "metadata": {},
   "outputs": [],
   "source": [
    "from tensorflow.keras import Sequential\n",
    "from tensorflow.keras.layers import Embedding, Dense, Dropout, BatchNormalization, Flatten, LSTM\n",
    "from tensorflow.keras.callbacks import Callback, ReduceLROnPlateau"
   ]
  },
  {
   "cell_type": "markdown",
   "id": "a594d889",
   "metadata": {},
   "source": [
    "# Dataset"
   ]
  },
  {
   "cell_type": "code",
   "execution_count": 3,
   "id": "4f035b4d",
   "metadata": {},
   "outputs": [
    {
     "data": {
      "text/html": [
       "<div>\n",
       "<style scoped>\n",
       "    .dataframe tbody tr th:only-of-type {\n",
       "        vertical-align: middle;\n",
       "    }\n",
       "\n",
       "    .dataframe tbody tr th {\n",
       "        vertical-align: top;\n",
       "    }\n",
       "\n",
       "    .dataframe thead th {\n",
       "        text-align: right;\n",
       "    }\n",
       "</style>\n",
       "<table border=\"1\" class=\"dataframe\">\n",
       "  <thead>\n",
       "    <tr style=\"text-align: right;\">\n",
       "      <th></th>\n",
       "      <th>Text</th>\n",
       "      <th>Emotion</th>\n",
       "    </tr>\n",
       "  </thead>\n",
       "  <tbody>\n",
       "    <tr>\n",
       "      <th>0</th>\n",
       "      <td>i didnt feel humiliated</td>\n",
       "      <td>sadness</td>\n",
       "    </tr>\n",
       "    <tr>\n",
       "      <th>1</th>\n",
       "      <td>i can go from feeling so hopeless to so damned...</td>\n",
       "      <td>sadness</td>\n",
       "    </tr>\n",
       "    <tr>\n",
       "      <th>2</th>\n",
       "      <td>im grabbing a minute to post i feel greedy wrong</td>\n",
       "      <td>anger</td>\n",
       "    </tr>\n",
       "    <tr>\n",
       "      <th>3</th>\n",
       "      <td>i am ever feeling nostalgic about the fireplac...</td>\n",
       "      <td>love</td>\n",
       "    </tr>\n",
       "    <tr>\n",
       "      <th>4</th>\n",
       "      <td>i am feeling grouchy</td>\n",
       "      <td>anger</td>\n",
       "    </tr>\n",
       "  </tbody>\n",
       "</table>\n",
       "</div>"
      ],
      "text/plain": [
       "                                                Text  Emotion\n",
       "0                            i didnt feel humiliated  sadness\n",
       "1  i can go from feeling so hopeless to so damned...  sadness\n",
       "2   im grabbing a minute to post i feel greedy wrong    anger\n",
       "3  i am ever feeling nostalgic about the fireplac...     love\n",
       "4                               i am feeling grouchy    anger"
      ]
     },
     "execution_count": 3,
     "metadata": {},
     "output_type": "execute_result"
    }
   ],
   "source": [
    "filePath = 'D:\\\\New folder\\\\Emotion_final.csv'\n",
    "df = pd.read_csv(filePath)\n",
    "df.head()"
   ]
  },
  {
   "cell_type": "code",
   "execution_count": 4,
   "id": "8a12d52d",
   "metadata": {},
   "outputs": [
    {
     "data": {
      "text/plain": [
       "happy       7029\n",
       "sadness     6265\n",
       "anger       2993\n",
       "fear        2652\n",
       "love        1641\n",
       "surprise     879\n",
       "Name: Emotion, dtype: int64"
      ]
     },
     "execution_count": 4,
     "metadata": {},
     "output_type": "execute_result"
    }
   ],
   "source": [
    "df['Emotion'].value_counts()"
   ]
  },
  {
   "cell_type": "code",
   "execution_count": 5,
   "id": "ca27059d",
   "metadata": {},
   "outputs": [
    {
     "data": {
      "text/plain": [
       "Text       0\n",
       "Emotion    0\n",
       "dtype: int64"
      ]
     },
     "execution_count": 5,
     "metadata": {},
     "output_type": "execute_result"
    }
   ],
   "source": [
    "df.isnull().sum()"
   ]
  },
  {
   "cell_type": "code",
   "execution_count": 6,
   "id": "840e8ea5",
   "metadata": {},
   "outputs": [],
   "source": [
    "category = pd.get_dummies(df.Emotion)\n",
    "df1 = pd.concat([df, category], axis=1)\n",
    "df1 = df1.drop(columns='Emotion')"
   ]
  },
  {
   "cell_type": "markdown",
   "id": "5010f8c6",
   "metadata": {},
   "source": [
    "# Data Preprocessing"
   ]
  },
  {
   "cell_type": "code",
   "execution_count": 7,
   "id": "eefa7de6",
   "metadata": {},
   "outputs": [],
   "source": [
    "X = df1['Text'].values\n",
    "y = df1[['happy', 'sadness', 'anger', 'fear', 'love', 'surprise']].values"
   ]
  },
  {
   "cell_type": "code",
   "execution_count": 8,
   "id": "6038e1f5",
   "metadata": {},
   "outputs": [],
   "source": [
    "from sklearn.model_selection import train_test_split"
   ]
  },
  {
   "cell_type": "code",
   "execution_count": 9,
   "id": "8f2988ac",
   "metadata": {},
   "outputs": [],
   "source": [
    "X_train, X_test, y_train, y_test = train_test_split(X, y, test_size=0.2, random_state=1)"
   ]
  },
  {
   "cell_type": "code",
   "execution_count": 11,
   "id": "7995be91",
   "metadata": {},
   "outputs": [],
   "source": [
    "tokenizer = Tokenizer(num_words = 5000, oov_token='<x>', filters='!\"#$%&()*+,-./:;<=>?@[\\\\]^_`{|}~\\t\\n', lower=True)\n",
    "tokenizer.fit_on_texts(X_train)\n",
    "tokenizer.fit_on_texts(X_test)\n",
    "\n",
    "Seq_train = tokenizer.texts_to_sequences(X_train)\n",
    "Seq_test = tokenizer.texts_to_sequences(X_test)\n",
    "\n",
    "Pad_train = pad_sequences(Seq_train)\n",
    "Pad_test = pad_sequences(Seq_test)"
   ]
  },
  {
   "cell_type": "markdown",
   "id": "a56af43d",
   "metadata": {},
   "source": [
    "# Build The Model"
   ]
  },
  {
   "cell_type": "code",
   "execution_count": 17,
   "id": "86c94224",
   "metadata": {},
   "outputs": [],
   "source": [
    "model = Sequential([\n",
    "    Embedding(input_dim = 5000, output_dim = 128),\n",
    "    LSTM(128, return_sequences=True),\n",
    "    Dropout(0.2),\n",
    "    LSTM(64),\n",
    "    Dropout(0.2),\n",
    "    Dense(128, activation='relu'),\n",
    "    Dropout(0.2),\n",
    "    Dense(64, activation='relu'),\n",
    "    Dropout(0.2),\n",
    "    Dense(6, activation='softmax')\n",
    "])"
   ]
  },
  {
   "cell_type": "code",
   "execution_count": 18,
   "id": "1d0395e2",
   "metadata": {},
   "outputs": [
    {
     "name": "stdout",
     "output_type": "stream",
     "text": [
      "Model: \"sequential_2\"\n",
      "_________________________________________________________________\n",
      " Layer (type)                Output Shape              Param #   \n",
      "=================================================================\n",
      " embedding_2 (Embedding)     (None, None, 128)         640000    \n",
      "                                                                 \n",
      " lstm_5 (LSTM)               (None, None, 128)         131584    \n",
      "                                                                 \n",
      " dropout_9 (Dropout)         (None, None, 128)         0         \n",
      "                                                                 \n",
      " lstm_6 (LSTM)               (None, 64)                49408     \n",
      "                                                                 \n",
      " dropout_10 (Dropout)        (None, 64)                0         \n",
      "                                                                 \n",
      " dense_6 (Dense)             (None, 128)               8320      \n",
      "                                                                 \n",
      " dropout_11 (Dropout)        (None, 128)               0         \n",
      "                                                                 \n",
      " dense_7 (Dense)             (None, 64)                8256      \n",
      "                                                                 \n",
      " dropout_12 (Dropout)        (None, 64)                0         \n",
      "                                                                 \n",
      " dense_8 (Dense)             (None, 6)                 390       \n",
      "                                                                 \n",
      "=================================================================\n",
      "Total params: 837,958\n",
      "Trainable params: 837,958\n",
      "Non-trainable params: 0\n",
      "_________________________________________________________________\n"
     ]
    }
   ],
   "source": [
    "model.summary()"
   ]
  },
  {
   "cell_type": "markdown",
   "id": "306556bb",
   "metadata": {},
   "source": [
    "# Train The Model"
   ]
  },
  {
   "cell_type": "code",
   "execution_count": 19,
   "id": "2a5845fe",
   "metadata": {},
   "outputs": [],
   "source": [
    "model.compile(\n",
    "    optimizer='adam',\n",
    "    loss='categorical_crossentropy',\n",
    "    metrics=['accuracy']\n",
    ")"
   ]
  },
  {
   "cell_type": "code",
   "execution_count": 20,
   "id": "3c5587be",
   "metadata": {
    "scrolled": true
   },
   "outputs": [
    {
     "name": "stdout",
     "output_type": "stream",
     "text": [
      "Epoch 1/60\n",
      "68/68 [==============================] - 15s 182ms/step - loss: 1.6119 - accuracy: 0.3152 - val_loss: 1.5026 - val_accuracy: 0.3600\n",
      "Epoch 2/60\n",
      "68/68 [==============================] - 12s 180ms/step - loss: 1.1716 - accuracy: 0.5099 - val_loss: 0.8340 - val_accuracy: 0.6752\n",
      "Epoch 3/60\n",
      "68/68 [==============================] - 12s 183ms/step - loss: 0.6807 - accuracy: 0.7312 - val_loss: 0.6600 - val_accuracy: 0.7542\n",
      "Epoch 4/60\n",
      "68/68 [==============================] - 12s 183ms/step - loss: 0.4409 - accuracy: 0.8366 - val_loss: 0.4761 - val_accuracy: 0.8497\n",
      "Epoch 5/60\n",
      "68/68 [==============================] - 13s 189ms/step - loss: 0.2742 - accuracy: 0.9099 - val_loss: 0.4096 - val_accuracy: 0.8760\n",
      "Epoch 6/60\n",
      "68/68 [==============================] - 13s 188ms/step - loss: 0.2057 - accuracy: 0.9320 - val_loss: 0.3880 - val_accuracy: 0.8900\n",
      "Epoch 7/60\n",
      "68/68 [==============================] - 13s 190ms/step - loss: 0.1598 - accuracy: 0.9491 - val_loss: 0.3824 - val_accuracy: 0.8889\n",
      "Epoch 8/60\n",
      "68/68 [==============================] - 13s 188ms/step - loss: 0.1249 - accuracy: 0.9609 - val_loss: 0.4109 - val_accuracy: 0.8921\n",
      "Epoch 9/60\n",
      "68/68 [==============================] - 13s 187ms/step - loss: 0.1095 - accuracy: 0.9646 - val_loss: 0.4322 - val_accuracy: 0.8877\n",
      "Epoch 10/60\n",
      "68/68 [==============================] - 13s 186ms/step - loss: 0.1043 - accuracy: 0.9664 - val_loss: 0.4729 - val_accuracy: 0.8928\n",
      "Epoch 11/60\n",
      "68/68 [==============================] - 12s 183ms/step - loss: 0.1020 - accuracy: 0.9670 - val_loss: 0.4620 - val_accuracy: 0.8945\n",
      "Epoch 12/60\n",
      "68/68 [==============================] - 13s 185ms/step - loss: 0.0798 - accuracy: 0.9754 - val_loss: 0.4431 - val_accuracy: 0.8924\n",
      "Epoch 13/60\n",
      "68/68 [==============================] - 13s 187ms/step - loss: 0.0652 - accuracy: 0.9789 - val_loss: 0.4625 - val_accuracy: 0.8912\n",
      "Epoch 14/60\n",
      "68/68 [==============================] - 13s 184ms/step - loss: 0.0639 - accuracy: 0.9788 - val_loss: 0.5204 - val_accuracy: 0.8879\n",
      "Epoch 15/60\n",
      "68/68 [==============================] - 12s 184ms/step - loss: 0.0536 - accuracy: 0.9828 - val_loss: 0.5403 - val_accuracy: 0.8926\n",
      "Epoch 16/60\n",
      "68/68 [==============================] - 13s 187ms/step - loss: 0.0462 - accuracy: 0.9847 - val_loss: 0.5540 - val_accuracy: 0.8912\n",
      "Epoch 17/60\n",
      "68/68 [==============================] - 13s 197ms/step - loss: 0.0419 - accuracy: 0.9861 - val_loss: 0.5365 - val_accuracy: 0.8893\n",
      "Epoch 18/60\n",
      "68/68 [==============================] - 14s 202ms/step - loss: 0.0486 - accuracy: 0.9846 - val_loss: 0.6045 - val_accuracy: 0.8886\n",
      "Epoch 19/60\n",
      "68/68 [==============================] - 14s 201ms/step - loss: 0.0489 - accuracy: 0.9844 - val_loss: 0.5036 - val_accuracy: 0.8975\n",
      "Epoch 20/60\n",
      "68/68 [==============================] - 14s 201ms/step - loss: 0.0361 - accuracy: 0.9884 - val_loss: 0.6059 - val_accuracy: 0.8996\n",
      "Epoch 21/60\n",
      "68/68 [==============================] - 13s 189ms/step - loss: 0.0338 - accuracy: 0.9889 - val_loss: 0.5643 - val_accuracy: 0.8986\n",
      "Epoch 22/60\n",
      "68/68 [==============================] - 13s 188ms/step - loss: 0.0333 - accuracy: 0.9897 - val_loss: 0.6049 - val_accuracy: 0.8921\n",
      "Epoch 23/60\n",
      "68/68 [==============================] - 13s 187ms/step - loss: 0.0407 - accuracy: 0.9860 - val_loss: 0.5680 - val_accuracy: 0.8977\n",
      "Epoch 24/60\n",
      "68/68 [==============================] - 13s 195ms/step - loss: 0.0349 - accuracy: 0.9881 - val_loss: 0.5406 - val_accuracy: 0.8991\n",
      "Epoch 25/60\n",
      "68/68 [==============================] - 14s 202ms/step - loss: 0.0303 - accuracy: 0.9899 - val_loss: 0.5954 - val_accuracy: 0.9026\n",
      "Epoch 26/60\n",
      "68/68 [==============================] - 13s 195ms/step - loss: 0.0249 - accuracy: 0.9911 - val_loss: 0.6202 - val_accuracy: 0.8961\n",
      "Epoch 27/60\n",
      "68/68 [==============================] - 13s 193ms/step - loss: 0.0220 - accuracy: 0.9925 - val_loss: 0.6331 - val_accuracy: 0.8945\n",
      "Epoch 28/60\n",
      "68/68 [==============================] - 13s 194ms/step - loss: 0.0354 - accuracy: 0.9890 - val_loss: 0.6401 - val_accuracy: 0.8968\n",
      "Epoch 29/60\n",
      "68/68 [==============================] - 13s 192ms/step - loss: 0.0327 - accuracy: 0.9888 - val_loss: 0.5463 - val_accuracy: 0.8952\n",
      "Epoch 30/60\n",
      "68/68 [==============================] - 13s 193ms/step - loss: 0.0241 - accuracy: 0.9923 - val_loss: 0.5681 - val_accuracy: 0.8968\n",
      "Epoch 31/60\n",
      "68/68 [==============================] - 13s 193ms/step - loss: 0.0246 - accuracy: 0.9918 - val_loss: 0.6233 - val_accuracy: 0.9019\n",
      "Epoch 32/60\n",
      "68/68 [==============================] - 13s 196ms/step - loss: 0.0199 - accuracy: 0.9927 - val_loss: 0.6515 - val_accuracy: 0.8963\n",
      "Epoch 33/60\n",
      "68/68 [==============================] - 13s 195ms/step - loss: 0.0177 - accuracy: 0.9941 - val_loss: 0.6533 - val_accuracy: 0.8970\n",
      "Epoch 34/60\n",
      "68/68 [==============================] - 13s 196ms/step - loss: 0.0174 - accuracy: 0.9935 - val_loss: 0.7344 - val_accuracy: 0.8993\n",
      "Epoch 35/60\n",
      "68/68 [==============================] - 13s 196ms/step - loss: 0.0159 - accuracy: 0.9942 - val_loss: 0.6843 - val_accuracy: 0.8942\n",
      "Epoch 36/60\n",
      "68/68 [==============================] - 13s 192ms/step - loss: 0.0269 - accuracy: 0.9916 - val_loss: 0.6875 - val_accuracy: 0.8900\n",
      "Epoch 37/60\n",
      "68/68 [==============================] - 13s 195ms/step - loss: 0.0360 - accuracy: 0.9892 - val_loss: 0.6160 - val_accuracy: 0.8982\n",
      "Epoch 38/60\n",
      "68/68 [==============================] - 13s 193ms/step - loss: 0.0215 - accuracy: 0.9924 - val_loss: 0.6499 - val_accuracy: 0.8982\n",
      "Epoch 39/60\n",
      "68/68 [==============================] - 13s 193ms/step - loss: 0.0163 - accuracy: 0.9945 - val_loss: 0.6868 - val_accuracy: 0.8993\n",
      "Epoch 40/60\n",
      "68/68 [==============================] - 13s 194ms/step - loss: 0.0199 - accuracy: 0.9931 - val_loss: 0.6278 - val_accuracy: 0.8914\n",
      "Epoch 41/60\n",
      "68/68 [==============================] - 13s 195ms/step - loss: 0.0242 - accuracy: 0.9927 - val_loss: 0.6076 - val_accuracy: 0.9014\n",
      "Epoch 42/60\n",
      "68/68 [==============================] - 13s 193ms/step - loss: 0.0173 - accuracy: 0.9945 - val_loss: 0.6156 - val_accuracy: 0.8991\n",
      "Epoch 43/60\n",
      "68/68 [==============================] - 13s 191ms/step - loss: 0.0176 - accuracy: 0.9945 - val_loss: 0.7033 - val_accuracy: 0.8991\n",
      "Epoch 44/60\n",
      "68/68 [==============================] - 13s 193ms/step - loss: 0.0176 - accuracy: 0.9935 - val_loss: 0.6331 - val_accuracy: 0.9014\n",
      "Epoch 45/60\n",
      "68/68 [==============================] - 13s 191ms/step - loss: 0.0218 - accuracy: 0.9923 - val_loss: 0.6895 - val_accuracy: 0.8996\n",
      "Epoch 46/60\n",
      "68/68 [==============================] - 13s 192ms/step - loss: 0.0233 - accuracy: 0.9917 - val_loss: 0.6656 - val_accuracy: 0.9028\n",
      "Epoch 47/60\n",
      "68/68 [==============================] - 13s 192ms/step - loss: 0.0163 - accuracy: 0.9938 - val_loss: 0.7023 - val_accuracy: 0.9021\n",
      "Epoch 48/60\n",
      "68/68 [==============================] - 13s 194ms/step - loss: 0.0132 - accuracy: 0.9941 - val_loss: 0.7367 - val_accuracy: 0.8993\n",
      "Epoch 49/60\n",
      "68/68 [==============================] - 13s 194ms/step - loss: 0.0177 - accuracy: 0.9935 - val_loss: 0.6501 - val_accuracy: 0.8973\n",
      "Epoch 50/60\n",
      "68/68 [==============================] - 13s 192ms/step - loss: 0.0142 - accuracy: 0.9943 - val_loss: 0.7381 - val_accuracy: 0.9019\n",
      "Epoch 51/60\n",
      "68/68 [==============================] - 13s 191ms/step - loss: 0.0168 - accuracy: 0.9937 - val_loss: 0.7134 - val_accuracy: 0.8996\n",
      "Epoch 52/60\n",
      "68/68 [==============================] - 13s 191ms/step - loss: 0.0168 - accuracy: 0.9938 - val_loss: 0.6356 - val_accuracy: 0.8993\n",
      "Epoch 53/60\n",
      "68/68 [==============================] - 13s 189ms/step - loss: 0.0147 - accuracy: 0.9947 - val_loss: 0.6767 - val_accuracy: 0.8991\n",
      "Epoch 54/60\n",
      "68/68 [==============================] - 13s 193ms/step - loss: 0.0132 - accuracy: 0.9953 - val_loss: 0.6690 - val_accuracy: 0.8998\n",
      "Epoch 55/60\n",
      "68/68 [==============================] - 13s 194ms/step - loss: 0.0137 - accuracy: 0.9947 - val_loss: 0.7247 - val_accuracy: 0.8963\n",
      "Epoch 56/60\n",
      "68/68 [==============================] - 13s 192ms/step - loss: 0.0116 - accuracy: 0.9962 - val_loss: 0.7400 - val_accuracy: 0.9003\n",
      "Epoch 57/60\n",
      "68/68 [==============================] - 13s 190ms/step - loss: 0.0148 - accuracy: 0.9945 - val_loss: 0.7909 - val_accuracy: 0.9012\n",
      "Epoch 58/60\n",
      "68/68 [==============================] - 13s 189ms/step - loss: 0.0226 - accuracy: 0.9933 - val_loss: 0.6273 - val_accuracy: 0.8977\n",
      "Epoch 59/60\n",
      "68/68 [==============================] - 13s 191ms/step - loss: 0.0144 - accuracy: 0.9942 - val_loss: 0.7829 - val_accuracy: 0.8979\n",
      "Epoch 60/60\n",
      "68/68 [==============================] - 13s 191ms/step - loss: 0.0117 - accuracy: 0.9956 - val_loss: 0.7304 - val_accuracy: 0.9005\n"
     ]
    }
   ],
   "source": [
    "history = model.fit(\n",
    "    Pad_train, y_train,\n",
    "    epochs = 60,\n",
    "    batch_size = 256,\n",
    "    validation_data = (Pad_test, y_test),\n",
    "    verbose = 1,\n",
    ")"
   ]
  },
  {
   "cell_type": "markdown",
   "id": "4c1dc64a",
   "metadata": {},
   "source": [
    "# Plot The Graph"
   ]
  },
  {
   "cell_type": "code",
   "execution_count": 22,
   "id": "65673c59",
   "metadata": {},
   "outputs": [
    {
     "data": {
      "image/png": "[encoded data removed]",
      "text/plain": [
       "<Figure size 432x288 with 1 Axes>"
      ]
     },
     "metadata": {
      "needs_background": "light"
     },
     "output_type": "display_data"
    },
    {
     "data": {
      "image/png": "[encoded data removed]",
      "text/plain": [
       "<Figure size 432x288 with 1 Axes>"
      ]
     },
     "metadata": {
      "needs_background": "light"
     },
     "output_type": "display_data"
    }
   ],
   "source": [
    "plt.figure(figsize=(6,4))\n",
    "plt.plot(history.history['accuracy'])\n",
    "plt.plot(history.history['val_accuracy'])\n",
    "plt.title('Accuracy')\n",
    "plt.ylabel('accuracy')\n",
    "plt.xlabel('epoch')\n",
    "plt.legend(['train', 'Validation'], loc='upper left')\n",
    "plt.show()\n",
    "\n",
    "plt.figure(figsize=(6,4))\n",
    "plt.plot(history.history['loss'])\n",
    "plt.plot(history.history['val_loss'])\n",
    "plt.title('Loss')\n",
    "plt.ylabel('Loss')\n",
    "plt.xlabel('epoch')\n",
    "plt.legend(['train', 'Validation'], loc='upper left')\n",
    "plt.show()"
   ]
  },
  {
   "cell_type": "code",
   "execution_count": null,
   "id": "0cb9fdf6",
   "metadata": {},
   "outputs": [],
   "source": []
  }
 ],
 "metadata": {
  "kernelspec": {
   "display_name": "Python 3 (ipykernel)",
   "language": "python",
   "name": "python3"
  },
  "language_info": {
   "codemirror_mode": {
    "name": "ipython",
    "version": 3
   },
   "file_extension": ".py",
   "mimetype": "text/x-python",
   "name": "python",
   "nbconvert_exporter": "python",
   "pygments_lexer": "ipython3",
   "version": "3.9.12"
  }
 },
 "nbformat": 4,
 "nbformat_minor": 5
}
