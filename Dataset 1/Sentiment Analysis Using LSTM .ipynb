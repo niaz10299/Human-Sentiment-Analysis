{
 "cells": [
  {
   "cell_type": "markdown",
   "id": "d0fefb6d",
   "metadata": {},
   "source": [
    "# Import Libraries"
   ]
  },
  {
   "cell_type": "code",
   "execution_count": 1,
   "id": "14e829e9",
   "metadata": {},
   "outputs": [],
   "source": [
    "import re\n",
    "import string\n",
    "import numpy as np\n",
    "import pandas as pd\n",
    "import matplotlib.pyplot as plt\n",
    "import seaborn as sns"
   ]
  },
  {
   "cell_type": "code",
   "execution_count": 2,
   "id": "97b9d26a",
   "metadata": {},
   "outputs": [],
   "source": [
    "str_punc = string.punctuation.replace(',', '').replace(\"'\",'')\n",
    "\n",
    "def clean(text):\n",
    "    global str_punc\n",
    "    text = re.sub(r'[^a-zA-Z ]', '', text)\n",
    "    text = text.lower()\n",
    "    return text    "
   ]
  },
  {
   "cell_type": "markdown",
   "id": "36bcb6e4",
   "metadata": {},
   "source": [
    "# Read dataset & Preprocess text"
   ]
  },
  {
   "cell_type": "code",
   "execution_count": 3,
   "id": "98a06497",
   "metadata": {},
   "outputs": [],
   "source": [
    "df_train = pd.read_csv('D:\\\\New folder\\\\train.txt', names=['Text', 'Emotion'], sep=';')\n",
    "df_val = pd.read_csv('D:\\\\New folder\\\\val.txt', names=['Text', 'Emotion'], sep=';')\n",
    "df_test = pd.read_csv('D:\\\\New folder\\\\test.txt', names=['Text', 'Emotion'], sep=';')\n",
    "\n",
    "df_test = df_test[df_test['Emotion'].isin(['sadness','anger','joy','fear','love','surprise'])]\n",
    "df_val = df_val[df_val['Emotion'].isin(['sadness','anger','joy','fear','love','surprise'])]\n",
    "df_train = df_train[df_train['Emotion'].isin(['sadness','anger','joy','fear','love','surprise'])]\n",
    "\n",
    "X_train = df_train['Text'].apply(clean)\n",
    "y_train = df_train['Emotion']\n",
    "\n",
    "X_test = df_test['Text'].apply(clean)\n",
    "y_test = df_test['Emotion']\n",
    "\n",
    "X_val = df_val['Text'].apply(clean)\n",
    "y_val = df_val['Emotion']"
   ]
  },
  {
   "cell_type": "markdown",
   "id": "7b9bab3b",
   "metadata": {},
   "source": [
    "# Visualize classes counts"
   ]
  },
  {
   "cell_type": "code",
   "execution_count": 4,
   "id": "de20284b",
   "metadata": {},
   "outputs": [
    {
     "name": "stderr",
     "output_type": "stream",
     "text": [
      "C:\\Users\\amitr\\anaconda3\\lib\\site-packages\\seaborn\\_decorators.py:36: FutureWarning: Pass the following variable as a keyword arg: x. From version 0.12, the only valid positional argument will be `data`, and passing other arguments without an explicit keyword will result in an error or misinterpretation.\n",
      "  warnings.warn(\n"
     ]
    },
    {
     "data": {
      "image/png": "[encoded data removed]",
      "text/plain": [
       "<Figure size 432x288 with 1 Axes>"
      ]
     },
     "metadata": {
      "needs_background": "light"
     },
     "output_type": "display_data"
    },
    {
     "name": "stderr",
     "output_type": "stream",
     "text": [
      "C:\\Users\\amitr\\anaconda3\\lib\\site-packages\\seaborn\\_decorators.py:36: FutureWarning: Pass the following variable as a keyword arg: x. From version 0.12, the only valid positional argument will be `data`, and passing other arguments without an explicit keyword will result in an error or misinterpretation.\n",
      "  warnings.warn(\n"
     ]
    },
    {
     "data": {
      "image/png": "[encoded data removed]",
      "text/plain": [
       "<Figure size 432x288 with 1 Axes>"
      ]
     },
     "metadata": {
      "needs_background": "light"
     },
     "output_type": "display_data"
    },
    {
     "name": "stderr",
     "output_type": "stream",
     "text": [
      "C:\\Users\\amitr\\anaconda3\\lib\\site-packages\\seaborn\\_decorators.py:36: FutureWarning: Pass the following variable as a keyword arg: x. From version 0.12, the only valid positional argument will be `data`, and passing other arguments without an explicit keyword will result in an error or misinterpretation.\n",
      "  warnings.warn(\n"
     ]
    },
    {
     "data": {
      "image/png": "[encoded data removed]",
      "text/plain": [
       "<Figure size 432x288 with 1 Axes>"
      ]
     },
     "metadata": {
      "needs_background": "light"
     },
     "output_type": "display_data"
    }
   ],
   "source": [
    "sns.countplot(y_train)\n",
    "plt.title(\"Training data - classes counts\")\n",
    "plt.show()\n",
    "\n",
    "sns.countplot(y_test)\n",
    "plt.title(\"Testing data - classes counts\")\n",
    "plt.show()\n",
    "\n",
    "sns.countplot(y_val)\n",
    "plt.title(\"Validation data - classes counts\")\n",
    "plt.show()"
   ]
  },
  {
   "cell_type": "markdown",
   "id": "91cc1a1d",
   "metadata": {},
   "source": [
    "# Import Libraries"
   ]
  },
  {
   "cell_type": "code",
   "execution_count": 5,
   "id": "dcb8cf0e",
   "metadata": {},
   "outputs": [],
   "source": [
    "from sklearn.preprocessing import LabelEncoder\n",
    "from sklearn.model_selection import train_test_split\n",
    "from tensorflow.keras.utils import to_categorical\n",
    "from tensorflow.keras.preprocessing.text import Tokenizer\n",
    "from tensorflow.keras.preprocessing.sequence import pad_sequences"
   ]
  },
  {
   "cell_type": "markdown",
   "id": "3632568c",
   "metadata": {},
   "source": [
    "# Encode labels"
   ]
  },
  {
   "cell_type": "code",
   "execution_count": 6,
   "id": "2c926ab4",
   "metadata": {},
   "outputs": [],
   "source": [
    "le = LabelEncoder()\n",
    "y_train = le.fit_transform(y_train)\n",
    "y_test = le.transform(y_test)\n",
    "y_val = le.transform(y_val)\n",
    "\n",
    "y_train = to_categorical(y_train)\n",
    "y_test = to_categorical(y_test)\n",
    "y_val = to_categorical(y_val)"
   ]
  },
  {
   "cell_type": "markdown",
   "id": "887ab8dd",
   "metadata": {},
   "source": [
    "# Tokenize words"
   ]
  },
  {
   "cell_type": "code",
   "execution_count": 7,
   "id": "77ab2363",
   "metadata": {},
   "outputs": [
    {
     "name": "stdout",
     "output_type": "stream",
     "text": [
      "Vocabulary size = 16185\n"
     ]
    }
   ],
   "source": [
    "tokenizer = Tokenizer()\n",
    "tokenizer.fit_on_texts(pd.concat([X_train, X_test], axis=0))\n",
    "\n",
    "\n",
    "sequences_train = tokenizer.texts_to_sequences(X_train)\n",
    "sequences_test = tokenizer.texts_to_sequences(X_test)\n",
    "sequences_val = tokenizer.texts_to_sequences(X_val)\n",
    "\n",
    "X_train = pad_sequences(sequences_train, maxlen=256, truncating='pre')\n",
    "X_test = pad_sequences(sequences_test, maxlen=256, truncating='pre')\n",
    "X_val = pad_sequences(sequences_val, maxlen=256, truncating='pre')\n",
    "\n",
    "vocabSize = len(tokenizer.index_word) + 1\n",
    "print(f\"Vocabulary size = {vocabSize}\")"
   ]
  },
  {
   "cell_type": "markdown",
   "id": "6f4872ae",
   "metadata": {},
   "source": [
    "# Embedding"
   ]
  },
  {
   "cell_type": "code",
   "execution_count": 8,
   "id": "e45dc64f",
   "metadata": {},
   "outputs": [],
   "source": [
    "max_features = 20000\n",
    "maxlen = 100\n",
    "embedding_size = 128"
   ]
  },
  {
   "cell_type": "markdown",
   "id": "e2915c18",
   "metadata": {},
   "source": [
    "# Importing the Dependencies"
   ]
  },
  {
   "cell_type": "code",
   "execution_count": 9,
   "id": "048f932f",
   "metadata": {},
   "outputs": [],
   "source": [
    "from tensorflow.keras.optimizers import Adam\n",
    "from tensorflow.keras.models import Sequential\n",
    "from tensorflow.keras.callbacks import EarlyStopping\n",
    "from tensorflow.keras.layers import Dense, LSTM, Embedding, Dropout, Activation, Flatten, Input"
   ]
  },
  {
   "cell_type": "markdown",
   "id": "2a2e0cb3",
   "metadata": {},
   "source": [
    "# Build The Model"
   ]
  },
  {
   "cell_type": "code",
   "execution_count": 10,
   "id": "5e1cacf3",
   "metadata": {},
   "outputs": [
    {
     "name": "stdout",
     "output_type": "stream",
     "text": [
      "Model: \"sequential\"\n",
      "_________________________________________________________________\n",
      " Layer (type)                Output Shape              Param #   \n",
      "=================================================================\n",
      " embedding (Embedding)       (None, 256, 128)          2071680   \n",
      "                                                                 \n",
      " lstm (LSTM)                 (None, 256, 128)          131584    \n",
      "                                                                 \n",
      " dropout (Dropout)           (None, 256, 128)          0         \n",
      "                                                                 \n",
      " lstm_1 (LSTM)               (None, 64)                49408     \n",
      "                                                                 \n",
      " dropout_1 (Dropout)         (None, 64)                0         \n",
      "                                                                 \n",
      " dense (Dense)               (None, 128)               8320      \n",
      "                                                                 \n",
      " dropout_2 (Dropout)         (None, 128)               0         \n",
      "                                                                 \n",
      " dense_1 (Dense)             (None, 64)                8256      \n",
      "                                                                 \n",
      " dropout_3 (Dropout)         (None, 64)                0         \n",
      "                                                                 \n",
      " dense_2 (Dense)             (None, 6)                 390       \n",
      "                                                                 \n",
      " activation (Activation)     (None, 6)                 0         \n",
      "                                                                 \n",
      "=================================================================\n",
      "Total params: 2,269,638\n",
      "Trainable params: 2,269,638\n",
      "Non-trainable params: 0\n",
      "_________________________________________________________________\n"
     ]
    }
   ],
   "source": [
    "from tensorflow.keras.layers import SimpleRNN\n",
    "model = Sequential()\n",
    "model.add(Embedding(vocabSize, embedding_size, input_length=X_train.shape[1]))\n",
    "model.add(LSTM(128, return_sequences=True)),\n",
    "model.add(Dropout(0.2))  ,\n",
    "model.add(LSTM(64)),\n",
    "model.add(Dropout(0.2))  ,\n",
    "model.add(Dense(128, activation='relu')),\n",
    "model.add(Dropout(0.2)),\n",
    "model.add(Dense(64, activation='relu')),\n",
    "model.add(Dropout(0.2)),\n",
    "model.add(Dense(6))\n",
    "model.add(Activation('softmax'))\n",
    "model.summary()"
   ]
  },
  {
   "cell_type": "markdown",
   "id": "cea34e72",
   "metadata": {},
   "source": [
    "# Train The Model"
   ]
  },
  {
   "cell_type": "code",
   "execution_count": 11,
   "id": "b0d60843",
   "metadata": {},
   "outputs": [],
   "source": [
    "model.compile(loss='categorical_crossentropy', optimizer=\"adam\", metrics=['accuracy'])"
   ]
  },
  {
   "cell_type": "code",
   "execution_count": 12,
   "id": "5d66f166",
   "metadata": {
    "scrolled": true
   },
   "outputs": [
    {
     "name": "stdout",
     "output_type": "stream",
     "text": [
      "Epoch 1/60\n",
      "63/63 [==============================] - 77s 1s/step - loss: 1.5975 - accuracy: 0.3247 - val_loss: 1.4697 - val_accuracy: 0.3845\n",
      "Epoch 2/60\n",
      "63/63 [==============================] - 73s 1s/step - loss: 1.1267 - accuracy: 0.5349 - val_loss: 0.8785 - val_accuracy: 0.6605\n",
      "Epoch 3/60\n",
      "63/63 [==============================] - 76s 1s/step - loss: 0.6091 - accuracy: 0.7697 - val_loss: 0.6348 - val_accuracy: 0.7930\n",
      "Epoch 4/60\n",
      "63/63 [==============================] - 78s 1s/step - loss: 0.3334 - accuracy: 0.8891 - val_loss: 0.5070 - val_accuracy: 0.8495\n",
      "Epoch 5/60\n",
      "63/63 [==============================] - 77s 1s/step - loss: 0.2092 - accuracy: 0.9329 - val_loss: 0.4871 - val_accuracy: 0.8680\n",
      "Epoch 6/60\n",
      "63/63 [==============================] - 78s 1s/step - loss: 0.1422 - accuracy: 0.9556 - val_loss: 0.5065 - val_accuracy: 0.8715\n",
      "Epoch 7/60\n",
      "63/63 [==============================] - 78s 1s/step - loss: 0.1142 - accuracy: 0.9656 - val_loss: 0.4978 - val_accuracy: 0.8745\n",
      "Epoch 8/60\n",
      "63/63 [==============================] - 78s 1s/step - loss: 0.0892 - accuracy: 0.9728 - val_loss: 0.5664 - val_accuracy: 0.8810\n",
      "Epoch 9/60\n",
      "63/63 [==============================] - 78s 1s/step - loss: 0.0722 - accuracy: 0.9791 - val_loss: 0.5024 - val_accuracy: 0.8835\n",
      "Epoch 10/60\n",
      "63/63 [==============================] - 78s 1s/step - loss: 0.0619 - accuracy: 0.9814 - val_loss: 0.5206 - val_accuracy: 0.8855\n",
      "Epoch 11/60\n",
      "63/63 [==============================] - 77s 1s/step - loss: 0.0638 - accuracy: 0.9803 - val_loss: 0.5463 - val_accuracy: 0.8815\n",
      "Epoch 12/60\n",
      "63/63 [==============================] - 78s 1s/step - loss: 0.0798 - accuracy: 0.9763 - val_loss: 0.5229 - val_accuracy: 0.8775\n",
      "Epoch 13/60\n",
      "63/63 [==============================] - 76s 1s/step - loss: 0.0547 - accuracy: 0.9836 - val_loss: 0.4669 - val_accuracy: 0.9000\n",
      "Epoch 14/60\n",
      "63/63 [==============================] - 76s 1s/step - loss: 0.0516 - accuracy: 0.9841 - val_loss: 0.4881 - val_accuracy: 0.8885\n",
      "Epoch 15/60\n",
      "63/63 [==============================] - 76s 1s/step - loss: 0.0496 - accuracy: 0.9854 - val_loss: 0.5448 - val_accuracy: 0.8840\n",
      "Epoch 16/60\n",
      "63/63 [==============================] - 81s 1s/step - loss: 0.0487 - accuracy: 0.9847 - val_loss: 0.5322 - val_accuracy: 0.8970\n",
      "Epoch 17/60\n",
      "63/63 [==============================] - 79s 1s/step - loss: 0.0342 - accuracy: 0.9901 - val_loss: 0.5745 - val_accuracy: 0.8980\n",
      "Epoch 18/60\n",
      "63/63 [==============================] - 75s 1s/step - loss: 0.0295 - accuracy: 0.9916 - val_loss: 0.5472 - val_accuracy: 0.8980\n",
      "Epoch 19/60\n",
      "63/63 [==============================] - 76s 1s/step - loss: 0.0271 - accuracy: 0.9918 - val_loss: 0.5497 - val_accuracy: 0.8930\n",
      "Epoch 20/60\n",
      "63/63 [==============================] - 75s 1s/step - loss: 0.0261 - accuracy: 0.9916 - val_loss: 0.5846 - val_accuracy: 0.8960\n",
      "Epoch 21/60\n",
      "63/63 [==============================] - 75s 1s/step - loss: 0.0206 - accuracy: 0.9932 - val_loss: 0.5851 - val_accuracy: 0.8970\n",
      "Epoch 22/60\n",
      "63/63 [==============================] - 75s 1s/step - loss: 0.0247 - accuracy: 0.9917 - val_loss: 0.5823 - val_accuracy: 0.8895\n",
      "Epoch 23/60\n",
      "63/63 [==============================] - 74s 1s/step - loss: 0.0291 - accuracy: 0.9902 - val_loss: 0.5292 - val_accuracy: 0.8960\n",
      "Epoch 24/60\n",
      "63/63 [==============================] - 75s 1s/step - loss: 0.0261 - accuracy: 0.9909 - val_loss: 0.5534 - val_accuracy: 0.8880\n",
      "Epoch 25/60\n",
      "63/63 [==============================] - 74s 1s/step - loss: 0.0390 - accuracy: 0.9880 - val_loss: 0.4807 - val_accuracy: 0.8970\n",
      "Epoch 26/60\n",
      "63/63 [==============================] - 74s 1s/step - loss: 0.0281 - accuracy: 0.9914 - val_loss: 0.4728 - val_accuracy: 0.9000\n",
      "Epoch 27/60\n",
      "63/63 [==============================] - 75s 1s/step - loss: 0.0193 - accuracy: 0.9937 - val_loss: 0.5395 - val_accuracy: 0.9040\n",
      "Epoch 28/60\n",
      "63/63 [==============================] - 75s 1s/step - loss: 0.0189 - accuracy: 0.9934 - val_loss: 0.5922 - val_accuracy: 0.8980\n",
      "Epoch 29/60\n",
      "63/63 [==============================] - 76s 1s/step - loss: 0.0353 - accuracy: 0.9886 - val_loss: 0.5666 - val_accuracy: 0.8995\n",
      "Epoch 30/60\n",
      "63/63 [==============================] - 78s 1s/step - loss: 0.0310 - accuracy: 0.9901 - val_loss: 0.5287 - val_accuracy: 0.9055\n",
      "Epoch 31/60\n",
      "63/63 [==============================] - 76s 1s/step - loss: 0.0194 - accuracy: 0.9931 - val_loss: 0.5345 - val_accuracy: 0.9105\n",
      "Epoch 32/60\n",
      "63/63 [==============================] - 77s 1s/step - loss: 0.0277 - accuracy: 0.9927 - val_loss: 0.4652 - val_accuracy: 0.8970\n",
      "Epoch 33/60\n",
      "63/63 [==============================] - 76s 1s/step - loss: 0.0234 - accuracy: 0.9921 - val_loss: 0.5128 - val_accuracy: 0.9030\n",
      "Epoch 34/60\n",
      "63/63 [==============================] - 77s 1s/step - loss: 0.0161 - accuracy: 0.9950 - val_loss: 0.5013 - val_accuracy: 0.9025\n",
      "Epoch 35/60\n",
      "63/63 [==============================] - 77s 1s/step - loss: 0.0156 - accuracy: 0.9949 - val_loss: 0.4917 - val_accuracy: 0.9060\n",
      "Epoch 36/60\n",
      "63/63 [==============================] - 77s 1s/step - loss: 0.0127 - accuracy: 0.9955 - val_loss: 0.5193 - val_accuracy: 0.9105\n",
      "Epoch 37/60\n",
      "63/63 [==============================] - 76s 1s/step - loss: 0.0131 - accuracy: 0.9958 - val_loss: 0.5637 - val_accuracy: 0.9095\n",
      "Epoch 38/60\n",
      "63/63 [==============================] - 77s 1s/step - loss: 0.0128 - accuracy: 0.9950 - val_loss: 0.5411 - val_accuracy: 0.9100\n",
      "Epoch 39/60\n",
      "63/63 [==============================] - 77s 1s/step - loss: 0.0138 - accuracy: 0.9953 - val_loss: 0.5551 - val_accuracy: 0.9055\n",
      "Epoch 40/60\n",
      "63/63 [==============================] - 77s 1s/step - loss: 0.0176 - accuracy: 0.9942 - val_loss: 0.5763 - val_accuracy: 0.8930\n",
      "Epoch 41/60\n",
      "63/63 [==============================] - 77s 1s/step - loss: 0.0227 - accuracy: 0.9927 - val_loss: 0.5296 - val_accuracy: 0.8985\n",
      "Epoch 42/60\n",
      "63/63 [==============================] - 76s 1s/step - loss: 0.0170 - accuracy: 0.9941 - val_loss: 0.5208 - val_accuracy: 0.9035\n",
      "Epoch 43/60\n",
      "63/63 [==============================] - 77s 1s/step - loss: 0.0134 - accuracy: 0.9946 - val_loss: 0.5698 - val_accuracy: 0.9025\n",
      "Epoch 44/60\n",
      "63/63 [==============================] - 76s 1s/step - loss: 0.0282 - accuracy: 0.9915 - val_loss: 0.5786 - val_accuracy: 0.9070\n",
      "Epoch 45/60\n",
      "63/63 [==============================] - 78s 1s/step - loss: 0.0207 - accuracy: 0.9931 - val_loss: 0.5685 - val_accuracy: 0.8995\n",
      "Epoch 46/60\n",
      "63/63 [==============================] - 77s 1s/step - loss: 0.0164 - accuracy: 0.9942 - val_loss: 0.5426 - val_accuracy: 0.9075\n",
      "Epoch 47/60\n",
      "63/63 [==============================] - 77s 1s/step - loss: 0.0117 - accuracy: 0.9954 - val_loss: 0.5923 - val_accuracy: 0.9005\n",
      "Epoch 48/60\n",
      "63/63 [==============================] - 77s 1s/step - loss: 0.0125 - accuracy: 0.9958 - val_loss: 0.6249 - val_accuracy: 0.8985\n",
      "Epoch 49/60\n",
      "63/63 [==============================] - 80s 1s/step - loss: 0.0094 - accuracy: 0.9959 - val_loss: 0.5932 - val_accuracy: 0.9065\n",
      "Epoch 50/60\n",
      "63/63 [==============================] - 80s 1s/step - loss: 0.0094 - accuracy: 0.9958 - val_loss: 0.6215 - val_accuracy: 0.9070\n",
      "Epoch 51/60\n",
      "63/63 [==============================] - 79s 1s/step - loss: 0.0087 - accuracy: 0.9962 - val_loss: 0.6104 - val_accuracy: 0.9065\n",
      "Epoch 52/60\n",
      "63/63 [==============================] - 78s 1s/step - loss: 0.0080 - accuracy: 0.9962 - val_loss: 0.6042 - val_accuracy: 0.9060\n",
      "Epoch 53/60\n",
      "63/63 [==============================] - 79s 1s/step - loss: 0.0072 - accuracy: 0.9969 - val_loss: 0.6596 - val_accuracy: 0.9070\n",
      "Epoch 54/60\n",
      "63/63 [==============================] - 79s 1s/step - loss: 0.0093 - accuracy: 0.9962 - val_loss: 0.6239 - val_accuracy: 0.9090\n",
      "Epoch 55/60\n",
      "63/63 [==============================] - 82s 1s/step - loss: 0.0106 - accuracy: 0.9955 - val_loss: 0.6988 - val_accuracy: 0.9015\n",
      "Epoch 56/60\n",
      "63/63 [==============================] - 81s 1s/step - loss: 0.0179 - accuracy: 0.9937 - val_loss: 0.5328 - val_accuracy: 0.9035\n",
      "Epoch 57/60\n",
      "63/63 [==============================] - 80s 1s/step - loss: 0.0118 - accuracy: 0.9954 - val_loss: 0.6112 - val_accuracy: 0.9045\n",
      "Epoch 58/60\n",
      "63/63 [==============================] - 82s 1s/step - loss: 0.0082 - accuracy: 0.9961 - val_loss: 0.6102 - val_accuracy: 0.9035\n",
      "Epoch 59/60\n",
      "63/63 [==============================] - 83s 1s/step - loss: 0.0086 - accuracy: 0.9964 - val_loss: 0.6715 - val_accuracy: 0.9070\n",
      "Epoch 60/60\n",
      "63/63 [==============================] - 83s 1s/step - loss: 0.0093 - accuracy: 0.9964 - val_loss: 0.6795 - val_accuracy: 0.9060\n"
     ]
    }
   ],
   "source": [
    "history = model.fit(X_train,\n",
    "                    y_train,\n",
    "                    validation_data=(X_val, y_val),\n",
    "                    verbose=1,\n",
    "                    batch_size=256,\n",
    "                    epochs=60,\n",
    "                   )"
   ]
  },
  {
   "cell_type": "markdown",
   "id": "b1bd03bc",
   "metadata": {},
   "source": [
    "# Evaluate Accuracy"
   ]
  },
  {
   "cell_type": "code",
   "execution_count": 16,
   "id": "f5346aab",
   "metadata": {},
   "outputs": [
    {
     "name": "stdout",
     "output_type": "stream",
     "text": [
      "63/63 [==============================] - 3s 47ms/step - loss: 0.7109 - accuracy: 0.8970\n"
     ]
    },
    {
     "data": {
      "text/plain": [
       "[0.7108979225158691, 0.8970000147819519]"
      ]
     },
     "execution_count": 16,
     "metadata": {},
     "output_type": "execute_result"
    }
   ],
   "source": [
    "model.evaluate(X_test, y_test, verbose=1)"
   ]
  },
  {
   "cell_type": "markdown",
   "id": "11b958bc",
   "metadata": {},
   "source": [
    "# Plot The Accuracy"
   ]
  },
  {
   "cell_type": "code",
   "execution_count": 17,
   "id": "77b8ee37",
   "metadata": {},
   "outputs": [
    {
     "data": {
      "image/png": "[encoded data removed]",
      "text/plain": [
       "<Figure size 432x288 with 1 Axes>"
      ]
     },
     "metadata": {
      "needs_background": "light"
     },
     "output_type": "display_data"
    }
   ],
   "source": [
    "plt.figure(figsize=(6,4))\n",
    "plt.plot(history.history['accuracy'])\n",
    "plt.plot(history.history['val_accuracy'])\n",
    "plt.title('Accuracy')\n",
    "plt.ylabel('accuracy')\n",
    "plt.xlabel('epoch')\n",
    "plt.legend(['train', 'Validation'], loc='upper left')\n",
    "plt.show()"
   ]
  },
  {
   "cell_type": "markdown",
   "id": "f59a67d6",
   "metadata": {},
   "source": [
    "# Plot The Loss"
   ]
  },
  {
   "cell_type": "code",
   "execution_count": 18,
   "id": "dcefc8b2",
   "metadata": {},
   "outputs": [
    {
     "data": {
      "image/png": "[encoded data removed]",
      "text/plain": [
       "<Figure size 432x288 with 1 Axes>"
      ]
     },
     "metadata": {
      "needs_background": "light"
     },
     "output_type": "display_data"
    }
   ],
   "source": [
    "plt.figure(figsize=(6,4))\n",
    "plt.plot(history.history['loss'])\n",
    "plt.plot(history.history['val_loss'])\n",
    "plt.title('Loss')\n",
    "plt.ylabel('Loss')\n",
    "plt.xlabel('epoch')\n",
    "plt.legend(['train', 'Validation'], loc='upper left')\n",
    "plt.show()"
   ]
  },
  {
   "cell_type": "code",
   "execution_count": null,
   "id": "dda88e71",
   "metadata": {},
   "outputs": [],
   "source": []
  }
 ],
 "metadata": {
  "kernelspec": {
   "display_name": "Python 3 (ipykernel)",
   "language": "python",
   "name": "python3"
  },
  "language_info": {
   "codemirror_mode": {
    "name": "ipython",
    "version": 3
   },
   "file_extension": ".py",
   "mimetype": "text/x-python",
   "name": "python",
   "nbconvert_exporter": "python",
   "pygments_lexer": "ipython3",
   "version": "3.9.12"
  }
 },
 "nbformat": 4,
 "nbformat_minor": 5
}
