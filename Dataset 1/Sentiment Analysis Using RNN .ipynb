{
 "cells": [
  {
   "cell_type": "markdown",
   "id": "4e18e3c7",
   "metadata": {},
   "source": [
    "# Import Libraries"
   ]
  },
  {
   "cell_type": "code",
   "execution_count": 1,
   "id": "2507abcc",
   "metadata": {},
   "outputs": [],
   "source": [
    "import re\n",
    "import string\n",
    "import numpy as np\n",
    "import pandas as pd\n",
    "import matplotlib.pyplot as plt\n",
    "import seaborn as sns"
   ]
  },
  {
   "cell_type": "code",
   "execution_count": 2,
   "id": "023f1408",
   "metadata": {},
   "outputs": [],
   "source": [
    "str_punc = string.punctuation.replace(',', '').replace(\"'\",'')\n",
    "\n",
    "def clean(text):\n",
    "    global str_punc\n",
    "    text = re.sub(r'[^a-zA-Z ]', '', text)\n",
    "    text = text.lower()\n",
    "    return text    "
   ]
  },
  {
   "cell_type": "markdown",
   "id": "04699e26",
   "metadata": {},
   "source": [
    "# Read dataset & Preprocess text"
   ]
  },
  {
   "cell_type": "code",
   "execution_count": 3,
   "id": "ffe81146",
   "metadata": {},
   "outputs": [],
   "source": [
    "df_train = pd.read_csv('D:\\\\New folder\\\\train.txt', names=['Text', 'Emotion'], sep=';')\n",
    "df_val = pd.read_csv('D:\\\\New folder\\\\val.txt', names=['Text', 'Emotion'], sep=';')\n",
    "df_test = pd.read_csv('D:\\\\New folder\\\\test.txt', names=['Text', 'Emotion'], sep=';')\n",
    "\n",
    "df_test = df_test[df_test['Emotion'].isin(['sadness','anger','joy','fear','love','surprise'])]\n",
    "df_val = df_val[df_val['Emotion'].isin(['sadness','anger','joy','fear','love','surprise'])]\n",
    "df_train = df_train[df_train['Emotion'].isin(['sadness','anger','joy','fear','love','surprise'])]\n",
    "\n",
    "X_train = df_train['Text'].apply(clean)\n",
    "y_train = df_train['Emotion']\n",
    "\n",
    "X_test = df_test['Text'].apply(clean)\n",
    "y_test = df_test['Emotion']\n",
    "\n",
    "X_val = df_val['Text'].apply(clean)\n",
    "y_val = df_val['Emotion']"
   ]
  },
  {
   "cell_type": "markdown",
   "id": "73c46464",
   "metadata": {},
   "source": [
    "# Visualize classes counts"
   ]
  },
  {
   "cell_type": "code",
   "execution_count": 4,
   "id": "7333733c",
   "metadata": {},
   "outputs": [
    {
     "name": "stderr",
     "output_type": "stream",
     "text": [
      "C:\\Users\\amitr\\anaconda3\\lib\\site-packages\\seaborn\\_decorators.py:36: FutureWarning: Pass the following variable as a keyword arg: x. From version 0.12, the only valid positional argument will be `data`, and passing other arguments without an explicit keyword will result in an error or misinterpretation.\n",
      "  warnings.warn(\n"
     ]
    },
    {
     "data": {
      "image/png": "[encoded data removed]",
      "text/plain": [
       "<Figure size 432x288 with 1 Axes>"
      ]
     },
     "metadata": {
      "needs_background": "light"
     },
     "output_type": "display_data"
    },
    {
     "name": "stderr",
     "output_type": "stream",
     "text": [
      "C:\\Users\\amitr\\anaconda3\\lib\\site-packages\\seaborn\\_decorators.py:36: FutureWarning: Pass the following variable as a keyword arg: x. From version 0.12, the only valid positional argument will be `data`, and passing other arguments without an explicit keyword will result in an error or misinterpretation.\n",
      "  warnings.warn(\n"
     ]
    },
    {
     "data": {
      "image/png": "[encoded data removed]",
      "text/plain": [
       "<Figure size 432x288 with 1 Axes>"
      ]
     },
     "metadata": {
      "needs_background": "light"
     },
     "output_type": "display_data"
    },
    {
     "name": "stderr",
     "output_type": "stream",
     "text": [
      "C:\\Users\\amitr\\anaconda3\\lib\\site-packages\\seaborn\\_decorators.py:36: FutureWarning: Pass the following variable as a keyword arg: x. From version 0.12, the only valid positional argument will be `data`, and passing other arguments without an explicit keyword will result in an error or misinterpretation.\n",
      "  warnings.warn(\n"
     ]
    },
    {
     "data": {
      "image/png": "[encoded data removed]",
      "text/plain": [
       "<Figure size 432x288 with 1 Axes>"
      ]
     },
     "metadata": {
      "needs_background": "light"
     },
     "output_type": "display_data"
    }
   ],
   "source": [
    "sns.countplot(y_train)\n",
    "plt.title(\"Training data - classes counts\")\n",
    "plt.show()\n",
    "\n",
    "sns.countplot(y_test)\n",
    "plt.title(\"Testing data - classes counts\")\n",
    "plt.show()\n",
    "\n",
    "sns.countplot(y_val)\n",
    "plt.title(\"Validation data - classes counts\")\n",
    "plt.show()"
   ]
  },
  {
   "cell_type": "markdown",
   "id": "f3d63cbd",
   "metadata": {},
   "source": [
    "# Import Libraries"
   ]
  },
  {
   "cell_type": "code",
   "execution_count": 5,
   "id": "5e332adf",
   "metadata": {},
   "outputs": [],
   "source": [
    "from sklearn.preprocessing import LabelEncoder\n",
    "from sklearn.model_selection import train_test_split\n",
    "from tensorflow.keras.utils import to_categorical\n",
    "from tensorflow.keras.preprocessing.text import Tokenizer\n",
    "from tensorflow.keras.preprocessing.sequence import pad_sequences"
   ]
  },
  {
   "cell_type": "markdown",
   "id": "551d414f",
   "metadata": {},
   "source": [
    "# Encode labels"
   ]
  },
  {
   "cell_type": "code",
   "execution_count": 6,
   "id": "df2896a6",
   "metadata": {},
   "outputs": [],
   "source": [
    "# Encode labels\n",
    "\n",
    "le = LabelEncoder()\n",
    "y_train = le.fit_transform(y_train)\n",
    "y_test = le.transform(y_test)\n",
    "y_val = le.transform(y_val)\n",
    "\n",
    "y_train = to_categorical(y_train)\n",
    "y_test = to_categorical(y_test)\n",
    "y_val = to_categorical(y_val)"
   ]
  },
  {
   "cell_type": "markdown",
   "id": "31aee548",
   "metadata": {},
   "source": [
    "# Tokenize words"
   ]
  },
  {
   "cell_type": "code",
   "execution_count": 7,
   "id": "2f972310",
   "metadata": {},
   "outputs": [
    {
     "name": "stdout",
     "output_type": "stream",
     "text": [
      "Vocabulary size = 16185\n"
     ]
    }
   ],
   "source": [
    "# Tokenize words\n",
    "tokenizer = Tokenizer()\n",
    "tokenizer.fit_on_texts(pd.concat([X_train, X_test], axis=0))\n",
    "\n",
    "\n",
    "sequences_train = tokenizer.texts_to_sequences(X_train)\n",
    "sequences_test = tokenizer.texts_to_sequences(X_test)\n",
    "sequences_val = tokenizer.texts_to_sequences(X_val)\n",
    "\n",
    "X_train = pad_sequences(sequences_train, maxlen=256, truncating='pre')\n",
    "X_test = pad_sequences(sequences_test, maxlen=256, truncating='pre')\n",
    "X_val = pad_sequences(sequences_val, maxlen=256, truncating='pre')\n",
    "\n",
    "vocabSize = len(tokenizer.index_word) + 1\n",
    "print(f\"Vocabulary size = {vocabSize}\")"
   ]
  },
  {
   "cell_type": "markdown",
   "id": "2a6b6ef2",
   "metadata": {},
   "source": [
    "# Embedding"
   ]
  },
  {
   "cell_type": "code",
   "execution_count": 8,
   "id": "bf82c569",
   "metadata": {},
   "outputs": [],
   "source": [
    "# Embedding\n",
    "max_features = 20000\n",
    "maxlen = 100\n",
    "embedding_size = 128"
   ]
  },
  {
   "cell_type": "markdown",
   "id": "ed1ef0a1",
   "metadata": {},
   "source": [
    "# Importing the Dependencies"
   ]
  },
  {
   "cell_type": "code",
   "execution_count": 9,
   "id": "8425f0e1",
   "metadata": {},
   "outputs": [],
   "source": [
    "from tensorflow.keras.optimizers import Adam\n",
    "from tensorflow.keras.models import Sequential\n",
    "from tensorflow.keras.callbacks import EarlyStopping\n",
    "from tensorflow.keras.layers import Dense,SimpleRNN,LSTM,Embedding,Bidirectional,Activation,Dropout"
   ]
  },
  {
   "cell_type": "markdown",
   "id": "f46f585c",
   "metadata": {},
   "source": [
    "# Build The Model"
   ]
  },
  {
   "cell_type": "code",
   "execution_count": 10,
   "id": "f3c38b22",
   "metadata": {},
   "outputs": [
    {
     "name": "stdout",
     "output_type": "stream",
     "text": [
      "Model: \"sequential\"\n",
      "_________________________________________________________________\n",
      " Layer (type)                Output Shape              Param #   \n",
      "=================================================================\n",
      " embedding (Embedding)       (None, 256, 128)          2071680   \n",
      "                                                                 \n",
      " simple_rnn (SimpleRNN)      (None, 128)               32896     \n",
      "                                                                 \n",
      " dropout (Dropout)           (None, 128)               0         \n",
      "                                                                 \n",
      " dense (Dense)               (None, 64)                8256      \n",
      "                                                                 \n",
      " dropout_1 (Dropout)         (None, 64)                0         \n",
      "                                                                 \n",
      " dense_1 (Dense)             (None, 32)                2080      \n",
      "                                                                 \n",
      " dropout_2 (Dropout)         (None, 32)                0         \n",
      "                                                                 \n",
      " dense_2 (Dense)             (None, 16)                528       \n",
      "                                                                 \n",
      " dropout_3 (Dropout)         (None, 16)                0         \n",
      "                                                                 \n",
      " dense_3 (Dense)             (None, 6)                 102       \n",
      "                                                                 \n",
      " activation (Activation)     (None, 6)                 0         \n",
      "                                                                 \n",
      "=================================================================\n",
      "Total params: 2,115,542\n",
      "Trainable params: 2,115,542\n",
      "Non-trainable params: 0\n",
      "_________________________________________________________________\n"
     ]
    }
   ],
   "source": [
    "model = Sequential()\n",
    "model.add(Embedding(vocabSize, embedding_size, input_length=X_train.shape[1]))\n",
    "model.add(SimpleRNN(128,activation='relu'))\n",
    "model.add (Dropout(0.3))\n",
    "model.add(Dense(64,activation='relu'))\n",
    "model.add (Dropout(0.3))\n",
    "model.add(Dense(32,activation='relu'))\n",
    "model.add (Dropout(0.3))\n",
    "model.add(Dense(16,activation='relu'))\n",
    "model.add (Dropout(0.3))\n",
    "model.add(Dense(6))\n",
    "model.add(Activation('softmax'))\n",
    "model.summary()"
   ]
  },
  {
   "cell_type": "markdown",
   "id": "66d89842",
   "metadata": {},
   "source": [
    "# Train The Model"
   ]
  },
  {
   "cell_type": "code",
   "execution_count": 11,
   "id": "c8cfd38d",
   "metadata": {},
   "outputs": [],
   "source": [
    "model.compile(loss='categorical_crossentropy', optimizer=\"adam\", metrics=['accuracy'])"
   ]
  },
  {
   "cell_type": "code",
   "execution_count": 12,
   "id": "f43b64b5",
   "metadata": {
    "scrolled": true
   },
   "outputs": [
    {
     "name": "stdout",
     "output_type": "stream",
     "text": [
      "Epoch 1/60\n",
      "63/63 [==============================] - 10s 150ms/step - loss: 1.7314 - accuracy: 0.2982 - val_loss: 1.5712 - val_accuracy: 0.3520\n",
      "Epoch 2/60\n",
      "63/63 [==============================] - 9s 148ms/step - loss: 1.4975 - accuracy: 0.3271 - val_loss: 1.3128 - val_accuracy: 0.3545\n",
      "Epoch 3/60\n",
      "63/63 [==============================] - 9s 147ms/step - loss: 1.2909 - accuracy: 0.3634 - val_loss: 1.2308 - val_accuracy: 0.3765\n",
      "Epoch 4/60\n",
      "63/63 [==============================] - 9s 150ms/step - loss: 1.1498 - accuracy: 0.4900 - val_loss: 1.1031 - val_accuracy: 0.6025\n",
      "Epoch 5/60\n",
      "63/63 [==============================] - 10s 161ms/step - loss: 1.0864 - accuracy: 0.5477 - val_loss: 1.2660 - val_accuracy: 0.4510\n",
      "Epoch 6/60\n",
      "63/63 [==============================] - 10s 162ms/step - loss: 0.9923 - accuracy: 0.5763 - val_loss: 0.9492 - val_accuracy: 0.6525\n",
      "Epoch 7/60\n",
      "63/63 [==============================] - 10s 161ms/step - loss: 0.7937 - accuracy: 0.6836 - val_loss: 0.8721 - val_accuracy: 0.6770\n",
      "Epoch 8/60\n",
      "63/63 [==============================] - 10s 162ms/step - loss: 0.6611 - accuracy: 0.7216 - val_loss: 0.7952 - val_accuracy: 0.7235\n",
      "Epoch 9/60\n",
      "63/63 [==============================] - 9s 151ms/step - loss: 0.5693 - accuracy: 0.7638 - val_loss: 0.8052 - val_accuracy: 0.7480\n",
      "Epoch 10/60\n",
      "63/63 [==============================] - 9s 149ms/step - loss: 0.4944 - accuracy: 0.7979 - val_loss: 0.7834 - val_accuracy: 0.7560\n",
      "Epoch 11/60\n",
      "63/63 [==============================] - 9s 150ms/step - loss: 0.4822 - accuracy: 0.8053 - val_loss: 0.8206 - val_accuracy: 0.7935\n",
      "Epoch 12/60\n",
      "63/63 [==============================] - 9s 150ms/step - loss: 0.4471 - accuracy: 0.8274 - val_loss: 0.8735 - val_accuracy: 0.7870\n",
      "Epoch 13/60\n",
      "63/63 [==============================] - 9s 150ms/step - loss: 0.4076 - accuracy: 0.8429 - val_loss: 0.8004 - val_accuracy: 0.7980\n",
      "Epoch 14/60\n",
      "63/63 [==============================] - 9s 149ms/step - loss: 0.4022 - accuracy: 0.8508 - val_loss: 0.9088 - val_accuracy: 0.8195\n",
      "Epoch 15/60\n",
      "63/63 [==============================] - 9s 150ms/step - loss: 0.3696 - accuracy: 0.8734 - val_loss: 0.9945 - val_accuracy: 0.7610\n",
      "Epoch 16/60\n",
      "63/63 [==============================] - 9s 150ms/step - loss: 0.3497 - accuracy: 0.8817 - val_loss: 0.8242 - val_accuracy: 0.8320\n",
      "Epoch 17/60\n",
      "63/63 [==============================] - 9s 150ms/step - loss: 0.3181 - accuracy: 0.8981 - val_loss: 0.8754 - val_accuracy: 0.8405\n",
      "Epoch 18/60\n",
      "63/63 [==============================] - 9s 150ms/step - loss: 0.2935 - accuracy: 0.9099 - val_loss: 0.9373 - val_accuracy: 0.8360\n",
      "Epoch 19/60\n",
      "63/63 [==============================] - 10s 155ms/step - loss: 0.2881 - accuracy: 0.9077 - val_loss: 1.0043 - val_accuracy: 0.8105\n",
      "Epoch 20/60\n",
      "63/63 [==============================] - 9s 150ms/step - loss: 0.2715 - accuracy: 0.9155 - val_loss: 0.9752 - val_accuracy: 0.8210\n",
      "Epoch 21/60\n",
      "63/63 [==============================] - 10s 151ms/step - loss: 0.2508 - accuracy: 0.9254 - val_loss: 0.9598 - val_accuracy: 0.8375\n",
      "Epoch 22/60\n",
      "63/63 [==============================] - 10s 151ms/step - loss: 0.2247 - accuracy: 0.9316 - val_loss: 1.0013 - val_accuracy: 0.8335\n",
      "Epoch 23/60\n",
      "63/63 [==============================] - 9s 151ms/step - loss: 0.2362 - accuracy: 0.9287 - val_loss: 0.8708 - val_accuracy: 0.8355\n",
      "Epoch 24/60\n",
      "63/63 [==============================] - 10s 151ms/step - loss: 0.2239 - accuracy: 0.9302 - val_loss: 1.5511 - val_accuracy: 0.8225\n",
      "Epoch 25/60\n",
      "63/63 [==============================] - 9s 150ms/step - loss: 0.3034 - accuracy: 0.9122 - val_loss: 0.8453 - val_accuracy: 0.8410\n",
      "Epoch 26/60\n",
      "63/63 [==============================] - 10s 152ms/step - loss: 0.2414 - accuracy: 0.9244 - val_loss: 0.9721 - val_accuracy: 0.8470\n",
      "Epoch 27/60\n",
      "63/63 [==============================] - 10s 155ms/step - loss: 0.1923 - accuracy: 0.9402 - val_loss: 0.8846 - val_accuracy: 0.8515\n",
      "Epoch 28/60\n",
      "63/63 [==============================] - 9s 150ms/step - loss: 0.1777 - accuracy: 0.9451 - val_loss: 0.8787 - val_accuracy: 0.8625\n",
      "Epoch 29/60\n",
      "63/63 [==============================] - 9s 150ms/step - loss: 0.1619 - accuracy: 0.9500 - val_loss: 0.9678 - val_accuracy: 0.8630\n",
      "Epoch 30/60\n",
      "63/63 [==============================] - 9s 151ms/step - loss: 0.1572 - accuracy: 0.9520 - val_loss: 0.9349 - val_accuracy: 0.8610\n",
      "Epoch 31/60\n",
      "63/63 [==============================] - 9s 149ms/step - loss: 0.1628 - accuracy: 0.9526 - val_loss: 1.0669 - val_accuracy: 0.8570\n",
      "Epoch 32/60\n",
      "63/63 [==============================] - 9s 143ms/step - loss: 0.1682 - accuracy: 0.9481 - val_loss: 1.0869 - val_accuracy: 0.8625\n",
      "Epoch 33/60\n",
      "63/63 [==============================] - 9s 143ms/step - loss: 0.1253 - accuracy: 0.9638 - val_loss: 1.0353 - val_accuracy: 0.8600\n",
      "Epoch 34/60\n",
      "63/63 [==============================] - 9s 142ms/step - loss: 0.1175 - accuracy: 0.9654 - val_loss: 1.2084 - val_accuracy: 0.8645\n",
      "Epoch 35/60\n",
      "63/63 [==============================] - 9s 142ms/step - loss: 0.3207 - accuracy: 0.9359 - val_loss: 1.2586 - val_accuracy: 0.7130\n",
      "Epoch 36/60\n",
      "63/63 [==============================] - 9s 142ms/step - loss: 0.3920 - accuracy: 0.8766 - val_loss: 0.8556 - val_accuracy: 0.7515\n",
      "Epoch 37/60\n",
      "63/63 [==============================] - 9s 143ms/step - loss: 0.1953 - accuracy: 0.9457 - val_loss: 0.8154 - val_accuracy: 0.8470\n",
      "Epoch 38/60\n",
      "63/63 [==============================] - 9s 143ms/step - loss: 0.1256 - accuracy: 0.9649 - val_loss: 0.9386 - val_accuracy: 0.8635\n",
      "Epoch 39/60\n",
      "63/63 [==============================] - 9s 144ms/step - loss: 0.1077 - accuracy: 0.9695 - val_loss: 1.1162 - val_accuracy: 0.8665\n",
      "Epoch 40/60\n",
      "63/63 [==============================] - 9s 143ms/step - loss: 0.0968 - accuracy: 0.9742 - val_loss: 1.0161 - val_accuracy: 0.8650\n",
      "Epoch 41/60\n",
      "63/63 [==============================] - 9s 143ms/step - loss: 0.0946 - accuracy: 0.9734 - val_loss: 1.0509 - val_accuracy: 0.8725\n",
      "Epoch 42/60\n",
      "63/63 [==============================] - 9s 143ms/step - loss: 0.0989 - accuracy: 0.9743 - val_loss: 1.2055 - val_accuracy: 0.8585\n",
      "Epoch 43/60\n",
      "63/63 [==============================] - 9s 143ms/step - loss: 0.0906 - accuracy: 0.9765 - val_loss: 1.1351 - val_accuracy: 0.8705\n",
      "Epoch 44/60\n",
      "63/63 [==============================] - 9s 143ms/step - loss: 0.0949 - accuracy: 0.9735 - val_loss: 1.3032 - val_accuracy: 0.8665\n",
      "Epoch 45/60\n",
      "63/63 [==============================] - 9s 143ms/step - loss: 0.2024 - accuracy: 0.9599 - val_loss: 1.4480 - val_accuracy: 0.7625\n",
      "Epoch 46/60\n",
      "63/63 [==============================] - 9s 142ms/step - loss: 0.2525 - accuracy: 0.9266 - val_loss: 1.1390 - val_accuracy: 0.8495\n",
      "Epoch 47/60\n",
      "63/63 [==============================] - 9s 143ms/step - loss: 0.1114 - accuracy: 0.9698 - val_loss: 1.3541 - val_accuracy: 0.8615\n",
      "Epoch 48/60\n",
      "63/63 [==============================] - 9s 147ms/step - loss: 0.1007 - accuracy: 0.9726 - val_loss: 0.9391 - val_accuracy: 0.8530\n",
      "Epoch 49/60\n",
      "63/63 [==============================] - 9s 145ms/step - loss: 0.1139 - accuracy: 0.9719 - val_loss: 0.9418 - val_accuracy: 0.8705\n",
      "Epoch 50/60\n",
      "63/63 [==============================] - 9s 143ms/step - loss: 0.0906 - accuracy: 0.9754 - val_loss: 1.1381 - val_accuracy: 0.8645\n",
      "Epoch 51/60\n",
      "63/63 [==============================] - 9s 144ms/step - loss: 0.0912 - accuracy: 0.9738 - val_loss: 1.0209 - val_accuracy: 0.8775\n",
      "Epoch 52/60\n",
      "63/63 [==============================] - 9s 144ms/step - loss: 0.0722 - accuracy: 0.9797 - val_loss: 1.2499 - val_accuracy: 0.8665\n",
      "Epoch 53/60\n",
      "63/63 [==============================] - 9s 143ms/step - loss: 0.1333 - accuracy: 0.9679 - val_loss: 1.0665 - val_accuracy: 0.8275\n",
      "Epoch 54/60\n",
      "63/63 [==============================] - 9s 143ms/step - loss: 0.1162 - accuracy: 0.9663 - val_loss: 1.0779 - val_accuracy: 0.8655\n",
      "Epoch 55/60\n",
      "63/63 [==============================] - 9s 144ms/step - loss: 0.0838 - accuracy: 0.9791 - val_loss: 1.0455 - val_accuracy: 0.8620\n",
      "Epoch 56/60\n",
      "63/63 [==============================] - 9s 144ms/step - loss: 0.0714 - accuracy: 0.9803 - val_loss: 1.0253 - val_accuracy: 0.8790\n",
      "Epoch 57/60\n",
      "63/63 [==============================] - 9s 143ms/step - loss: 0.0653 - accuracy: 0.9824 - val_loss: 1.1356 - val_accuracy: 0.8815\n",
      "Epoch 58/60\n",
      "63/63 [==============================] - 9s 143ms/step - loss: 0.0590 - accuracy: 0.9820 - val_loss: 1.2119 - val_accuracy: 0.8790\n",
      "Epoch 59/60\n",
      "63/63 [==============================] - 9s 144ms/step - loss: 0.0597 - accuracy: 0.9827 - val_loss: 1.2260 - val_accuracy: 0.8765\n",
      "Epoch 60/60\n",
      "63/63 [==============================] - 9s 144ms/step - loss: 0.0552 - accuracy: 0.9845 - val_loss: 1.2422 - val_accuracy: 0.8735\n"
     ]
    }
   ],
   "source": [
    "history = model.fit(X_train,\n",
    "                    y_train,\n",
    "                    validation_data=(X_val, y_val),\n",
    "                    verbose=1,\n",
    "                    batch_size=256,\n",
    "                    epochs=60,\n",
    "                   )"
   ]
  },
  {
   "cell_type": "markdown",
   "id": "d9b6d5ad",
   "metadata": {},
   "source": [
    "# Evaluate Accuracy"
   ]
  },
  {
   "cell_type": "code",
   "execution_count": 13,
   "id": "fa42cb61",
   "metadata": {},
   "outputs": [
    {
     "name": "stdout",
     "output_type": "stream",
     "text": [
      "63/63 [==============================] - 1s 8ms/step - loss: 1.3110 - accuracy: 0.8795\n"
     ]
    },
    {
     "data": {
      "text/plain": [
       "[1.3110097646713257, 0.8794999718666077]"
      ]
     },
     "execution_count": 13,
     "metadata": {},
     "output_type": "execute_result"
    }
   ],
   "source": [
    "model.evaluate(X_test, y_test, verbose=1)"
   ]
  },
  {
   "cell_type": "markdown",
   "id": "27863c1a",
   "metadata": {},
   "source": [
    "# Plot The Accuracy"
   ]
  },
  {
   "cell_type": "code",
   "execution_count": 14,
   "id": "63847dac",
   "metadata": {},
   "outputs": [
    {
     "data": {
      "image/png": "[encoded data removed]",
      "text/plain": [
       "<Figure size 432x288 with 1 Axes>"
      ]
     },
     "metadata": {
      "needs_background": "light"
     },
     "output_type": "display_data"
    }
   ],
   "source": [
    "plt.figure(figsize=(6,4))\n",
    "plt.plot(history.history['accuracy'])\n",
    "plt.plot(history.history['val_accuracy'])\n",
    "plt.title('model accuracy')\n",
    "plt.ylabel('accuracy')\n",
    "plt.xlabel('epoch')\n",
    "plt.legend(['train', 'Validation'], loc='upper left')\n",
    "plt.show()"
   ]
  },
  {
   "cell_type": "markdown",
   "id": "ec2200b1",
   "metadata": {},
   "source": [
    "# Plot The Loss"
   ]
  },
  {
   "cell_type": "code",
   "execution_count": 15,
   "id": "4f26ea1c",
   "metadata": {},
   "outputs": [
    {
     "data": {
      "image/png": "[encoded data removed]",
      "text/plain": [
       "<Figure size 432x288 with 1 Axes>"
      ]
     },
     "metadata": {
      "needs_background": "light"
     },
     "output_type": "display_data"
    }
   ],
   "source": [
    "plt.figure(figsize=(6,4))\n",
    "plt.plot(history.history['loss'])\n",
    "plt.plot(history.history['val_loss'])\n",
    "plt.title('Loss Function')\n",
    "plt.ylabel('Loss')\n",
    "plt.xlabel('epoch')\n",
    "plt.legend(['train', 'Validation'], loc='upper left')\n",
    "plt.show()"
   ]
  },
  {
   "cell_type": "code",
   "execution_count": null,
   "id": "83bec08a",
   "metadata": {},
   "outputs": [],
   "source": []
  }
 ],
 "metadata": {
  "kernelspec": {
   "display_name": "Python 3 (ipykernel)",
   "language": "python",
   "name": "python3"
  },
  "language_info": {
   "codemirror_mode": {
    "name": "ipython",
    "version": 3
   },
   "file_extension": ".py",
   "mimetype": "text/x-python",
   "name": "python",
   "nbconvert_exporter": "python",
   "pygments_lexer": "ipython3",
   "version": "3.9.12"
  }
 },
 "nbformat": 4,
 "nbformat_minor": 5
}
