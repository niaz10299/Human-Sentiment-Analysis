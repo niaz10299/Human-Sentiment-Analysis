{
 "cells": [
  {
   "cell_type": "markdown",
   "id": "92af327e",
   "metadata": {},
   "source": [
    "# Import Libraries"
   ]
  },
  {
   "cell_type": "code",
   "execution_count": 1,
   "id": "023f1408",
   "metadata": {},
   "outputs": [],
   "source": [
    "import re\n",
    "import string\n",
    "import numpy as np\n",
    "import pandas as pd\n",
    "import matplotlib.pyplot as plt\n",
    "import seaborn as sns"
   ]
  },
  {
   "cell_type": "code",
   "execution_count": 2,
   "id": "3f012555",
   "metadata": {},
   "outputs": [],
   "source": [
    "str_punc = string.punctuation.replace(',', '').replace(\"'\",'')\n",
    "\n",
    "def clean(text):\n",
    "    global str_punc\n",
    "    text = re.sub(r'[^a-zA-Z ]', '', text)\n",
    "    text = text.lower()\n",
    "    return text    "
   ]
  },
  {
   "cell_type": "markdown",
   "id": "87e6198e",
   "metadata": {},
   "source": [
    "# Read dataset & Preprocess text"
   ]
  },
  {
   "cell_type": "code",
   "execution_count": 3,
   "id": "ffe81146",
   "metadata": {},
   "outputs": [],
   "source": [
    "df_train = pd.read_csv('D:\\\\New folder\\\\train.txt', names=['Text', 'Emotion'], sep=';')\n",
    "df_val = pd.read_csv('D:\\\\New folder\\\\val.txt', names=['Text', 'Emotion'], sep=';')\n",
    "df_test = pd.read_csv('D:\\\\New folder\\\\test.txt', names=['Text', 'Emotion'], sep=';')\n",
    "\n",
    "df_test = df_test[df_test['Emotion'].isin(['sadness','anger','joy','fear','love','surprise'])]\n",
    "df_val = df_val[df_val['Emotion'].isin(['sadness','anger','joy','fear','love','surprise'])]\n",
    "df_train = df_train[df_train['Emotion'].isin(['sadness','anger','joy','fear','love','surprise'])]\n",
    "\n",
    "X_train = df_train['Text'].apply(clean)\n",
    "y_train = df_train['Emotion']\n",
    "\n",
    "X_test = df_test['Text'].apply(clean)\n",
    "y_test = df_test['Emotion']\n",
    "\n",
    "X_val = df_val['Text'].apply(clean)\n",
    "y_val = df_val['Emotion']"
   ]
  },
  {
   "cell_type": "markdown",
   "id": "dd7a6cb3",
   "metadata": {},
   "source": [
    "# Visualize classes counts"
   ]
  },
  {
   "cell_type": "code",
   "execution_count": 4,
   "id": "7333733c",
   "metadata": {},
   "outputs": [
    {
     "name": "stderr",
     "output_type": "stream",
     "text": [
      "C:\\Users\\amitr\\anaconda3\\lib\\site-packages\\seaborn\\_decorators.py:36: FutureWarning: Pass the following variable as a keyword arg: x. From version 0.12, the only valid positional argument will be `data`, and passing other arguments without an explicit keyword will result in an error or misinterpretation.\n",
      "  warnings.warn(\n"
     ]
    },
    {
     "data": {
      "image/png": "[encoded data removed]",
      "text/plain": [
       "<Figure size 432x288 with 1 Axes>"
      ]
     },
     "metadata": {
      "needs_background": "light"
     },
     "output_type": "display_data"
    },
    {
     "name": "stderr",
     "output_type": "stream",
     "text": [
      "C:\\Users\\amitr\\anaconda3\\lib\\site-packages\\seaborn\\_decorators.py:36: FutureWarning: Pass the following variable as a keyword arg: x. From version 0.12, the only valid positional argument will be `data`, and passing other arguments without an explicit keyword will result in an error or misinterpretation.\n",
      "  warnings.warn(\n"
     ]
    },
    {
     "data": {
      "image/png": "[encoded data removed]",
      "text/plain": [
       "<Figure size 432x288 with 1 Axes>"
      ]
     },
     "metadata": {
      "needs_background": "light"
     },
     "output_type": "display_data"
    },
    {
     "name": "stderr",
     "output_type": "stream",
     "text": [
      "C:\\Users\\amitr\\anaconda3\\lib\\site-packages\\seaborn\\_decorators.py:36: FutureWarning: Pass the following variable as a keyword arg: x. From version 0.12, the only valid positional argument will be `data`, and passing other arguments without an explicit keyword will result in an error or misinterpretation.\n",
      "  warnings.warn(\n"
     ]
    },
    {
     "data": {
      "image/png": "[encoded data removed]",
      "text/plain": [
       "<Figure size 432x288 with 1 Axes>"
      ]
     },
     "metadata": {
      "needs_background": "light"
     },
     "output_type": "display_data"
    }
   ],
   "source": [
    "sns.countplot(y_train)\n",
    "plt.title(\"Training data - classes counts\")\n",
    "plt.show()\n",
    "\n",
    "sns.countplot(y_test)\n",
    "plt.title(\"Testing data - classes counts\")\n",
    "plt.show()\n",
    "\n",
    "sns.countplot(y_val)\n",
    "plt.title(\"Validation data - classes counts\")\n",
    "plt.show()"
   ]
  },
  {
   "cell_type": "markdown",
   "id": "95ca315e",
   "metadata": {},
   "source": [
    "# Import Libraries"
   ]
  },
  {
   "cell_type": "code",
   "execution_count": 5,
   "id": "04661c2a",
   "metadata": {},
   "outputs": [],
   "source": [
    "from sklearn.preprocessing import LabelEncoder\n",
    "from sklearn.model_selection import train_test_split\n",
    "from tensorflow.keras.utils import to_categorical\n",
    "from tensorflow.keras.preprocessing.text import Tokenizer\n",
    "from tensorflow.keras.preprocessing.sequence import pad_sequences"
   ]
  },
  {
   "cell_type": "markdown",
   "id": "0f37745d",
   "metadata": {},
   "source": [
    "# Encode labels"
   ]
  },
  {
   "cell_type": "code",
   "execution_count": 6,
   "id": "df2896a6",
   "metadata": {},
   "outputs": [],
   "source": [
    "le = LabelEncoder()\n",
    "y_train = le.fit_transform(y_train)\n",
    "y_test = le.transform(y_test)\n",
    "y_val = le.transform(y_val)\n",
    "\n",
    "y_train = to_categorical(y_train)\n",
    "y_test = to_categorical(y_test)\n",
    "y_val = to_categorical(y_val)"
   ]
  },
  {
   "cell_type": "markdown",
   "id": "1d398df2",
   "metadata": {},
   "source": [
    "# Tokenize words"
   ]
  },
  {
   "cell_type": "code",
   "execution_count": 7,
   "id": "2f972310",
   "metadata": {},
   "outputs": [
    {
     "name": "stdout",
     "output_type": "stream",
     "text": [
      "Vocabulary size = 16185\n"
     ]
    }
   ],
   "source": [
    "tokenizer = Tokenizer()\n",
    "tokenizer.fit_on_texts(pd.concat([X_train, X_test], axis=0))\n",
    "\n",
    "\n",
    "sequences_train = tokenizer.texts_to_sequences(X_train)\n",
    "sequences_test = tokenizer.texts_to_sequences(X_test)\n",
    "sequences_val = tokenizer.texts_to_sequences(X_val)\n",
    "\n",
    "X_train = pad_sequences(sequences_train, maxlen=256, truncating='pre')\n",
    "X_test = pad_sequences(sequences_test, maxlen=256, truncating='pre')\n",
    "X_val = pad_sequences(sequences_val, maxlen=256, truncating='pre')\n",
    "\n",
    "vocabSize = len(tokenizer.index_word) + 1\n",
    "print(f\"Vocabulary size = {vocabSize}\")"
   ]
  },
  {
   "cell_type": "markdown",
   "id": "6644ae26",
   "metadata": {},
   "source": [
    "# Embedding"
   ]
  },
  {
   "cell_type": "code",
   "execution_count": 8,
   "id": "bf82c569",
   "metadata": {},
   "outputs": [],
   "source": [
    "max_features = 20000\n",
    "maxlen = 100\n",
    "embedding_size = 128"
   ]
  },
  {
   "cell_type": "markdown",
   "id": "e896be2e",
   "metadata": {},
   "source": [
    "# Importing the Dependencies "
   ]
  },
  {
   "cell_type": "code",
   "execution_count": 11,
   "id": "73cf242a",
   "metadata": {},
   "outputs": [],
   "source": [
    "from tensorflow.keras.optimizers import Adam\n",
    "from tensorflow.keras.models import Sequential\n",
    "from tensorflow.keras.callbacks import EarlyStopping\n",
    "from tensorflow.keras.layers import Dense, LSTM, Embedding, Dropout, Activation, Flatten, Input, concatenate, Conv1D, GlobalMaxPooling1D, MaxPooling1D,BatchNormalization"
   ]
  },
  {
   "cell_type": "markdown",
   "id": "2a415692",
   "metadata": {},
   "source": [
    "# Build The Model "
   ]
  },
  {
   "cell_type": "code",
   "execution_count": 12,
   "id": "f3c38b22",
   "metadata": {},
   "outputs": [],
   "source": [
    "model = Sequential()\n",
    "model.add(Embedding(vocabSize, embedding_size, input_length=X_train.shape[1]))\n",
    "model.add(Conv1D(256,5,padding='valid',activation='relu',strides=1))\n",
    "model.add(MaxPooling1D(pool_size=2))\n",
    "model.add (BatchNormalization()),\n",
    "model.add (Dropout(0.3)),\n",
    "model.add(Conv1D(128, 5,padding='valid',activation='relu',strides=1))\n",
    "model.add(MaxPooling1D(pool_size=2))\n",
    "model.add (BatchNormalization()),\n",
    "model.add (Dropout(0.3)),\n",
    "model.add(LSTM(128))\n",
    "model.add (Dropout(0.3)),\n",
    "model.add(Dense(32))\n",
    "model.add (Dropout(0.3)),\n",
    "model.add(Dense(6))\n",
    "model.add(Activation('softmax'))"
   ]
  },
  {
   "cell_type": "code",
   "execution_count": 13,
   "id": "f27a7a01",
   "metadata": {},
   "outputs": [
    {
     "name": "stdout",
     "output_type": "stream",
     "text": [
      "Model: \"sequential_1\"\n",
      "_________________________________________________________________\n",
      " Layer (type)                Output Shape              Param #   \n",
      "=================================================================\n",
      " embedding_1 (Embedding)     (None, 256, 128)          2071680   \n",
      "                                                                 \n",
      " conv1d_1 (Conv1D)           (None, 252, 256)          164096    \n",
      "                                                                 \n",
      " max_pooling1d_1 (MaxPooling  (None, 126, 256)         0         \n",
      " 1D)                                                             \n",
      "                                                                 \n",
      " batch_normalization (BatchN  (None, 126, 256)         1024      \n",
      " ormalization)                                                   \n",
      "                                                                 \n",
      " dropout (Dropout)           (None, 126, 256)          0         \n",
      "                                                                 \n",
      " conv1d_2 (Conv1D)           (None, 122, 128)          163968    \n",
      "                                                                 \n",
      " max_pooling1d_2 (MaxPooling  (None, 61, 128)          0         \n",
      " 1D)                                                             \n",
      "                                                                 \n",
      " batch_normalization_1 (Batc  (None, 61, 128)          512       \n",
      " hNormalization)                                                 \n",
      "                                                                 \n",
      " dropout_1 (Dropout)         (None, 61, 128)           0         \n",
      "                                                                 \n",
      " lstm (LSTM)                 (None, 128)               131584    \n",
      "                                                                 \n",
      " dropout_2 (Dropout)         (None, 128)               0         \n",
      "                                                                 \n",
      " dense (Dense)               (None, 32)                4128      \n",
      "                                                                 \n",
      " dropout_3 (Dropout)         (None, 32)                0         \n",
      "                                                                 \n",
      " dense_1 (Dense)             (None, 6)                 198       \n",
      "                                                                 \n",
      " activation (Activation)     (None, 6)                 0         \n",
      "                                                                 \n",
      "=================================================================\n",
      "Total params: 2,537,190\n",
      "Trainable params: 2,536,422\n",
      "Non-trainable params: 768\n",
      "_________________________________________________________________\n"
     ]
    }
   ],
   "source": [
    "model.summary()"
   ]
  },
  {
   "cell_type": "markdown",
   "id": "9747108c",
   "metadata": {},
   "source": [
    "# Train The Model"
   ]
  },
  {
   "cell_type": "code",
   "execution_count": 14,
   "id": "c8cfd38d",
   "metadata": {},
   "outputs": [],
   "source": [
    "model.compile(loss='categorical_crossentropy', optimizer=\"adam\", metrics=['accuracy'])"
   ]
  },
  {
   "cell_type": "code",
   "execution_count": 15,
   "id": "f43b64b5",
   "metadata": {
    "scrolled": true
   },
   "outputs": [
    {
     "name": "stdout",
     "output_type": "stream",
     "text": [
      "Epoch 1/60\n",
      "63/63 [==============================] - 36s 544ms/step - loss: 1.6601 - accuracy: 0.3079 - val_loss: 1.6430 - val_accuracy: 0.3540\n",
      "Epoch 2/60\n",
      "63/63 [==============================] - 34s 538ms/step - loss: 1.5976 - accuracy: 0.3292 - val_loss: 1.6397 - val_accuracy: 0.2905\n",
      "Epoch 3/60\n",
      "63/63 [==============================] - 33s 521ms/step - loss: 1.5827 - accuracy: 0.3441 - val_loss: 1.6487 - val_accuracy: 0.3000\n",
      "Epoch 4/60\n",
      "63/63 [==============================] - 33s 522ms/step - loss: 1.3212 - accuracy: 0.4753 - val_loss: 1.5141 - val_accuracy: 0.5240\n",
      "Epoch 5/60\n",
      "63/63 [==============================] - 32s 516ms/step - loss: 0.6156 - accuracy: 0.7771 - val_loss: 0.8658 - val_accuracy: 0.6675\n",
      "Epoch 6/60\n",
      "63/63 [==============================] - 33s 519ms/step - loss: 0.2780 - accuracy: 0.9069 - val_loss: 0.5295 - val_accuracy: 0.8285\n",
      "Epoch 7/60\n",
      "63/63 [==============================] - 33s 522ms/step - loss: 0.1616 - accuracy: 0.9477 - val_loss: 0.4242 - val_accuracy: 0.8510\n",
      "Epoch 8/60\n",
      "63/63 [==============================] - 32s 516ms/step - loss: 0.1107 - accuracy: 0.9643 - val_loss: 0.3642 - val_accuracy: 0.8885\n",
      "Epoch 9/60\n",
      "63/63 [==============================] - 35s 558ms/step - loss: 0.0861 - accuracy: 0.9732 - val_loss: 0.3291 - val_accuracy: 0.9035\n",
      "Epoch 10/60\n",
      "63/63 [==============================] - 35s 559ms/step - loss: 0.0673 - accuracy: 0.9797 - val_loss: 0.3701 - val_accuracy: 0.9020\n",
      "Epoch 11/60\n",
      "63/63 [==============================] - 36s 567ms/step - loss: 0.0577 - accuracy: 0.9834 - val_loss: 0.4143 - val_accuracy: 0.9050\n",
      "Epoch 12/60\n",
      "63/63 [==============================] - 35s 550ms/step - loss: 0.0482 - accuracy: 0.9859 - val_loss: 0.3922 - val_accuracy: 0.9060\n",
      "Epoch 13/60\n",
      "63/63 [==============================] - 35s 559ms/step - loss: 0.0415 - accuracy: 0.9879 - val_loss: 0.4419 - val_accuracy: 0.9035\n",
      "Epoch 14/60\n",
      "63/63 [==============================] - 35s 556ms/step - loss: 0.0387 - accuracy: 0.9887 - val_loss: 0.6783 - val_accuracy: 0.7905\n",
      "Epoch 15/60\n",
      "63/63 [==============================] - 35s 557ms/step - loss: 0.0368 - accuracy: 0.9895 - val_loss: 0.4640 - val_accuracy: 0.9125\n",
      "Epoch 16/60\n",
      "63/63 [==============================] - 35s 553ms/step - loss: 0.0287 - accuracy: 0.9910 - val_loss: 0.4305 - val_accuracy: 0.8810\n",
      "Epoch 17/60\n",
      "63/63 [==============================] - 35s 554ms/step - loss: 0.0294 - accuracy: 0.9914 - val_loss: 0.4558 - val_accuracy: 0.9135\n",
      "Epoch 18/60\n",
      "63/63 [==============================] - 36s 566ms/step - loss: 0.0285 - accuracy: 0.9919 - val_loss: 0.4868 - val_accuracy: 0.9100\n",
      "Epoch 19/60\n",
      "63/63 [==============================] - 38s 601ms/step - loss: 0.0278 - accuracy: 0.9919 - val_loss: 0.4267 - val_accuracy: 0.9105\n",
      "Epoch 20/60\n",
      "63/63 [==============================] - 37s 590ms/step - loss: 0.0246 - accuracy: 0.9928 - val_loss: 0.4376 - val_accuracy: 0.9090\n",
      "Epoch 21/60\n",
      "63/63 [==============================] - 36s 565ms/step - loss: 0.0224 - accuracy: 0.9924 - val_loss: 0.4547 - val_accuracy: 0.9120\n",
      "Epoch 22/60\n",
      "63/63 [==============================] - 36s 569ms/step - loss: 0.0230 - accuracy: 0.9929 - val_loss: 0.6073 - val_accuracy: 0.8440\n",
      "Epoch 23/60\n",
      "63/63 [==============================] - 35s 552ms/step - loss: 0.0262 - accuracy: 0.9912 - val_loss: 0.5361 - val_accuracy: 0.9025\n",
      "Epoch 24/60\n",
      "63/63 [==============================] - 34s 540ms/step - loss: 0.0216 - accuracy: 0.9934 - val_loss: 0.4922 - val_accuracy: 0.9110\n",
      "Epoch 25/60\n",
      "63/63 [==============================] - 34s 541ms/step - loss: 0.0224 - accuracy: 0.9930 - val_loss: 0.5204 - val_accuracy: 0.9100\n",
      "Epoch 26/60\n",
      "63/63 [==============================] - 34s 537ms/step - loss: 0.0152 - accuracy: 0.9954 - val_loss: 0.5462 - val_accuracy: 0.9140\n",
      "Epoch 27/60\n",
      "63/63 [==============================] - 41s 650ms/step - loss: 0.0133 - accuracy: 0.9961 - val_loss: 0.5245 - val_accuracy: 0.9075\n",
      "Epoch 28/60\n",
      "63/63 [==============================] - 35s 550ms/step - loss: 0.0171 - accuracy: 0.9938 - val_loss: 0.4345 - val_accuracy: 0.8820\n",
      "Epoch 29/60\n",
      "63/63 [==============================] - 35s 552ms/step - loss: 0.0195 - accuracy: 0.9941 - val_loss: 0.5151 - val_accuracy: 0.9035\n",
      "Epoch 30/60\n",
      "63/63 [==============================] - 35s 551ms/step - loss: 0.0163 - accuracy: 0.9949 - val_loss: 0.5822 - val_accuracy: 0.9060\n",
      "Epoch 31/60\n",
      "63/63 [==============================] - 35s 558ms/step - loss: 0.0152 - accuracy: 0.9954 - val_loss: 0.5616 - val_accuracy: 0.9090\n",
      "Epoch 32/60\n",
      "63/63 [==============================] - 34s 533ms/step - loss: 0.0154 - accuracy: 0.9951 - val_loss: 0.5169 - val_accuracy: 0.9110\n",
      "Epoch 33/60\n",
      "63/63 [==============================] - 33s 528ms/step - loss: 0.0145 - accuracy: 0.9952 - val_loss: 0.6018 - val_accuracy: 0.9075\n",
      "Epoch 34/60\n",
      "63/63 [==============================] - 34s 532ms/step - loss: 0.0143 - accuracy: 0.9952 - val_loss: 0.5004 - val_accuracy: 0.9050\n",
      "Epoch 35/60\n",
      "63/63 [==============================] - 33s 529ms/step - loss: 0.0172 - accuracy: 0.9947 - val_loss: 0.5467 - val_accuracy: 0.9050\n",
      "Epoch 36/60\n",
      "63/63 [==============================] - 34s 534ms/step - loss: 0.0163 - accuracy: 0.9942 - val_loss: 0.5873 - val_accuracy: 0.9090\n",
      "Epoch 37/60\n",
      "63/63 [==============================] - 34s 544ms/step - loss: 0.0170 - accuracy: 0.9948 - val_loss: 0.5562 - val_accuracy: 0.9120\n",
      "Epoch 38/60\n",
      "63/63 [==============================] - 33s 519ms/step - loss: 0.0162 - accuracy: 0.9949 - val_loss: 0.4701 - val_accuracy: 0.8920\n",
      "Epoch 39/60\n",
      "63/63 [==============================] - 32s 516ms/step - loss: 0.0134 - accuracy: 0.9953 - val_loss: 0.5573 - val_accuracy: 0.9045\n",
      "Epoch 40/60\n",
      "63/63 [==============================] - 32s 515ms/step - loss: 0.0169 - accuracy: 0.9943 - val_loss: 0.5182 - val_accuracy: 0.8950\n",
      "Epoch 41/60\n",
      "63/63 [==============================] - 35s 562ms/step - loss: 0.0126 - accuracy: 0.9957 - val_loss: 0.5709 - val_accuracy: 0.8990\n",
      "Epoch 42/60\n",
      "63/63 [==============================] - 34s 539ms/step - loss: 0.0148 - accuracy: 0.9949 - val_loss: 0.5805 - val_accuracy: 0.9025\n",
      "Epoch 43/60\n",
      "63/63 [==============================] - 35s 559ms/step - loss: 0.0143 - accuracy: 0.9958 - val_loss: 0.5612 - val_accuracy: 0.9075\n",
      "Epoch 44/60\n",
      "63/63 [==============================] - 39s 616ms/step - loss: 0.0138 - accuracy: 0.9955 - val_loss: 0.5347 - val_accuracy: 0.9090\n",
      "Epoch 45/60\n",
      "63/63 [==============================] - 39s 617ms/step - loss: 0.0174 - accuracy: 0.9943 - val_loss: 0.5738 - val_accuracy: 0.9005\n",
      "Epoch 46/60\n",
      "63/63 [==============================] - 38s 610ms/step - loss: 0.0135 - accuracy: 0.9951 - val_loss: 0.5787 - val_accuracy: 0.9055\n",
      "Epoch 47/60\n",
      "63/63 [==============================] - 38s 603ms/step - loss: 0.0114 - accuracy: 0.9965 - val_loss: 0.6105 - val_accuracy: 0.9025\n",
      "Epoch 48/60\n",
      "63/63 [==============================] - 38s 604ms/step - loss: 0.0111 - accuracy: 0.9960 - val_loss: 0.5736 - val_accuracy: 0.9010\n",
      "Epoch 49/60\n",
      "63/63 [==============================] - 39s 612ms/step - loss: 0.0111 - accuracy: 0.9961 - val_loss: 0.6178 - val_accuracy: 0.9045\n",
      "Epoch 50/60\n",
      "63/63 [==============================] - 39s 624ms/step - loss: 0.0096 - accuracy: 0.9962 - val_loss: 0.5943 - val_accuracy: 0.9040\n",
      "Epoch 51/60\n",
      "63/63 [==============================] - 38s 605ms/step - loss: 0.0104 - accuracy: 0.9963 - val_loss: 0.6123 - val_accuracy: 0.9055\n",
      "Epoch 52/60\n",
      "63/63 [==============================] - 38s 607ms/step - loss: 0.0111 - accuracy: 0.9962 - val_loss: 0.7626 - val_accuracy: 0.8420\n",
      "Epoch 53/60\n",
      "63/63 [==============================] - 39s 614ms/step - loss: 0.0112 - accuracy: 0.9962 - val_loss: 0.6174 - val_accuracy: 0.9045\n",
      "Epoch 54/60\n",
      "63/63 [==============================] - 38s 600ms/step - loss: 0.0105 - accuracy: 0.9962 - val_loss: 0.5948 - val_accuracy: 0.9075\n",
      "Epoch 55/60\n",
      "63/63 [==============================] - 39s 624ms/step - loss: 0.0114 - accuracy: 0.9958 - val_loss: 0.6083 - val_accuracy: 0.9055\n",
      "Epoch 56/60\n",
      "63/63 [==============================] - 38s 604ms/step - loss: 0.0116 - accuracy: 0.9959 - val_loss: 0.6172 - val_accuracy: 0.9070\n",
      "Epoch 57/60\n",
      "63/63 [==============================] - 35s 563ms/step - loss: 0.0105 - accuracy: 0.9962 - val_loss: 0.6358 - val_accuracy: 0.9040\n",
      "Epoch 58/60\n",
      "63/63 [==============================] - 35s 554ms/step - loss: 0.0114 - accuracy: 0.9959 - val_loss: 0.6860 - val_accuracy: 0.9035\n",
      "Epoch 59/60\n",
      "63/63 [==============================] - 35s 554ms/step - loss: 0.0095 - accuracy: 0.9967 - val_loss: 0.6852 - val_accuracy: 0.9060\n",
      "Epoch 60/60\n",
      "63/63 [==============================] - 34s 533ms/step - loss: 0.0111 - accuracy: 0.9961 - val_loss: 0.6885 - val_accuracy: 0.9050\n"
     ]
    }
   ],
   "source": [
    "history = model.fit(X_train,\n",
    "                    y_train,\n",
    "                    validation_data=(X_val, y_val),\n",
    "                    verbose=1,\n",
    "                    batch_size=256,\n",
    "                    epochs=60,\n",
    "                   )"
   ]
  },
  {
   "cell_type": "markdown",
   "id": "13a7a56b",
   "metadata": {},
   "source": [
    "# Evaluate Accuracy"
   ]
  },
  {
   "cell_type": "code",
   "execution_count": 16,
   "id": "fa42cb61",
   "metadata": {},
   "outputs": [
    {
     "name": "stdout",
     "output_type": "stream",
     "text": [
      "63/63 [==============================] - 1s 17ms/step - loss: 0.7063 - accuracy: 0.8965\n"
     ]
    },
    {
     "data": {
      "text/plain": [
       "[0.7062628269195557, 0.8964999914169312]"
      ]
     },
     "execution_count": 16,
     "metadata": {},
     "output_type": "execute_result"
    }
   ],
   "source": [
    "model.evaluate(X_test, y_test, verbose=1)"
   ]
  },
  {
   "cell_type": "markdown",
   "id": "44786955",
   "metadata": {},
   "source": [
    "# Plot The Accuracy"
   ]
  },
  {
   "cell_type": "code",
   "execution_count": 17,
   "id": "63847dac",
   "metadata": {},
   "outputs": [
    {
     "data": {
      "image/png": "[encoded data removed]",
      "text/plain": [
       "<Figure size 432x288 with 1 Axes>"
      ]
     },
     "metadata": {
      "needs_background": "light"
     },
     "output_type": "display_data"
    }
   ],
   "source": [
    "plt.figure(figsize=(6,4))\n",
    "plt.plot(history.history['accuracy'])\n",
    "plt.plot(history.history['val_accuracy'])\n",
    "plt.title('model accuracy')\n",
    "plt.ylabel('accuracy')\n",
    "plt.xlabel('epoch')\n",
    "plt.legend(['train', 'Validation'], loc='upper left')\n",
    "plt.show()"
   ]
  },
  {
   "cell_type": "markdown",
   "id": "76dbe424",
   "metadata": {},
   "source": [
    "# Plot The Loss"
   ]
  },
  {
   "cell_type": "code",
   "execution_count": 18,
   "id": "4f26ea1c",
   "metadata": {},
   "outputs": [
    {
     "data": {
      "image/png": "[encoded data removed]",
      "text/plain": [
       "<Figure size 432x288 with 1 Axes>"
      ]
     },
     "metadata": {
      "needs_background": "light"
     },
     "output_type": "display_data"
    }
   ],
   "source": [
    "plt.figure(figsize=(6,4))\n",
    "plt.plot(history.history['loss'])\n",
    "plt.plot(history.history['val_loss'])\n",
    "plt.title('Loss Function')\n",
    "plt.ylabel('Loss')\n",
    "plt.xlabel('epoch')\n",
    "plt.legend(['train', 'Validation'], loc='upper left')\n",
    "plt.show()"
   ]
  },
  {
   "cell_type": "code",
   "execution_count": null,
   "id": "83bec08a",
   "metadata": {},
   "outputs": [],
   "source": []
  }
 ],
 "metadata": {
  "kernelspec": {
   "display_name": "Python 3 (ipykernel)",
   "language": "python",
   "name": "python3"
  },
  "language_info": {
   "codemirror_mode": {
    "name": "ipython",
    "version": 3
   },
   "file_extension": ".py",
   "mimetype": "text/x-python",
   "name": "python",
   "nbconvert_exporter": "python",
   "pygments_lexer": "ipython3",
   "version": "3.9.12"
  }
 },
 "nbformat": 4,
 "nbformat_minor": 5
}
